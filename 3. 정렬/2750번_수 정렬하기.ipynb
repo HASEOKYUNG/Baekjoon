{
 "cells": [
  {
   "cell_type": "markdown",
   "id": "58dce89d",
   "metadata": {},
   "source": [
    "## 2750번\n",
    "N개의 수가 주어졌을 때 오름차순으로 정렬해 출력하시오.\n",
    "- 입력)첫 줄에 N이 주어지고 다음 줄부터 줄마다 정수가 주어진다. 이때, 수는 중복되지 않고 절대값은 1000보다 작다.\n",
    "- 출력)줄단위로 N개의 수를 오름차순 출력한다.\n",
    "- https://www.acmicpc.net/problem/2750"
   ]
  },
  {
   "cell_type": "markdown",
   "id": "654afe2c",
   "metadata": {},
   "source": [
    "### 방법\n",
    "- 출제의도를 고려하면 for문을 반복 사용해 원소 위치를 바꿔가며 정렬하라는 걸 알 수 있다.\n",
    "- for문보다 python의 sort를 사용하는 것이 메모리, 시간 효율적이다."
   ]
  },
  {
   "cell_type": "code",
   "execution_count": null,
   "id": "30ea5565",
   "metadata": {},
   "outputs": [],
   "source": [
    "# 31120 KB, 164 ms\n",
    "import sys\n",
    "input = sys.stdin.readline\n",
    "n = int(input())\n",
    "data = [int(input()) for _ in range(n)]\n",
    "\n",
    "for x in range(n):\n",
    "    for y in range(x+1, n):\n",
    "        if data[x] > data[y]:\n",
    "            data[x], data[y] = data[y], data[x]\n",
    "        \n",
    "for _ in data:\n",
    "    print(_)"
   ]
  },
  {
   "cell_type": "code",
   "execution_count": null,
   "id": "553c0713",
   "metadata": {},
   "outputs": [],
   "source": [
    "# 31120 KB, 44 ms\n",
    "# Python의 sort 기능을 이용한다.\n",
    "import sys\n",
    "input = sys.stdin.readline\n",
    "data = [int(input()) for _ in range(int(input()))]\n",
    "data.sort()\n",
    "for _ in data:\n",
    "    print(_)"
   ]
  },
  {
   "cell_type": "code",
   "execution_count": null,
   "id": "42da910c",
   "metadata": {},
   "outputs": [],
   "source": []
  }
 ],
 "metadata": {
  "kernelspec": {
   "display_name": "Python 3 (ipykernel)",
   "language": "python",
   "name": "python3"
  },
  "language_info": {
   "codemirror_mode": {
    "name": "ipython",
    "version": 3
   },
   "file_extension": ".py",
   "mimetype": "text/x-python",
   "name": "python",
   "nbconvert_exporter": "python",
   "pygments_lexer": "ipython3",
   "version": "3.9.7"
  }
 },
 "nbformat": 4,
 "nbformat_minor": 5
}
