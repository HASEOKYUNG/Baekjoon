{
 "cells": [
  {
   "cell_type": "markdown",
   "id": "bf517bd4",
   "metadata": {},
   "source": [
    "## <font color='brown'>Doit!<font color='black'>알고리즘 코딩테스트 <font color='brown'>파이썬\n",
    "$\\bullet$ 버블정렬\n",
    "- 인접한 요소끼리 비교하고 위치를 swap하며 정렬하는 방법이다.\n",
    "- 인접한 요소 비교를 위해 이중 for문을 사용하여 시간 복잡도도 $O(n^2)$로 속도가 느리다."
   ]
  },
  {
   "cell_type": "markdown",
   "id": "5bd47a9f",
   "metadata": {},
   "source": [
    "$\\bullet$ 선택정렬<br>\n",
    "- 선택하지 않은 데이터 내 최대나 최소값을 찾고 오름차순(내림차순)에 맞는 위치에 두길 반복해 정렬하는 방법이다.\n",
    "- 구현이 복잡하고 시간 복잡도도 $O(n^2)$로 효율적이지 않다.\n",
    "\n",
    "$\\bullet$ 삽입정렬<br>\n",
    "- 정렬되지 않은 데이터의 index순으로 해당 index전 영역에 한 해 정렬하는 방법이다.\n",
    "- 시간 복잡도가 $O(n^2)$로 효율적이지 않으나 구현은 쉽다.\n",
    "\n",
    "$\\bullet$ 퀵 정렬<br>\n",
    "$\\bullet$ 병합정렬<br>\n",
    "$\\bullet$ 기수정렬<br>"
   ]
  },
  {
   "cell_type": "code",
   "execution_count": null,
   "id": "8f8949fa",
   "metadata": {},
   "outputs": [],
   "source": []
  }
 ],
 "metadata": {
  "kernelspec": {
   "display_name": "Python 3 (ipykernel)",
   "language": "python",
   "name": "python3"
  },
  "language_info": {
   "codemirror_mode": {
    "name": "ipython",
    "version": 3
   },
   "file_extension": ".py",
   "mimetype": "text/x-python",
   "name": "python",
   "nbconvert_exporter": "python",
   "pygments_lexer": "ipython3",
   "version": "3.9.7"
  }
 },
 "nbformat": 4,
 "nbformat_minor": 5
}
