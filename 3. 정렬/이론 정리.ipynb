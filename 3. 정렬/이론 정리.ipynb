{
 "cells": [
  {
   "cell_type": "markdown",
   "id": "bf517bd4",
   "metadata": {},
   "source": [
    "## <font color='brown'>Doit!<font color='black'>알고리즘 코딩테스트 <font color='brown'>파이썬\n",
    "$\\bullet$ 버블정렬\n",
    "- 인접한 요소끼리 비교하고 위치를 swap하며 정렬하는 방법이다.\n",
    "- 인접한 요소 비교를 위해 이중 for문을 사용하여 속도가 느리다."
   ]
  },
  {
   "cell_type": "markdown",
   "id": "5bd47a9f",
   "metadata": {},
   "source": [
    "$\\bullet$ 선택정렬<br>\n",
    "$\\bullet$ 삽입정렬<br>\n",
    "$\\bullet$ 퀵 정렬<br>\n",
    "$\\bullet$ 병합정렬<br>\n",
    "$\\bullet$ 기수정렬<br>"
   ]
  },
  {
   "cell_type": "code",
   "execution_count": null,
   "id": "8f8949fa",
   "metadata": {},
   "outputs": [],
   "source": []
  }
 ],
 "metadata": {
  "kernelspec": {
   "display_name": "Python 3 (ipykernel)",
   "language": "python",
   "name": "python3"
  },
  "language_info": {
   "codemirror_mode": {
    "name": "ipython",
    "version": 3
   },
   "file_extension": ".py",
   "mimetype": "text/x-python",
   "name": "python",
   "nbconvert_exporter": "python",
   "pygments_lexer": "ipython3",
   "version": "3.9.7"
  }
 },
 "nbformat": 4,
 "nbformat_minor": 5
}
