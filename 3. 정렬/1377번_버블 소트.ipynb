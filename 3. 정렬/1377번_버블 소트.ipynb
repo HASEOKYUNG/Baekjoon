{
 "cells": [
  {
   "cell_type": "markdown",
   "id": "f64d3f25",
   "metadata": {},
   "source": [
    "## 1377번\n",
    "N개 수를 버블정렬할 때 swap을 수행하지 않은 원소의 개수를 출력하시오.\n",
    "- 입력)N이 주어지고 줄간격으로 N개의 수가 입력된다.\n",
    "- 출력)N개의 수 중 swap이 한번도 이루어지지 않은 원소 개수를 출력한다.<br>\n",
    "  $~~~~~~$ 단, N개의 수 모두 swap이 이루어지지 않았으면 1을 출력해야 한다.\n",
    "- https://www.acmicpc.net/problem/1377"
   ]
  },
  {
   "cell_type": "markdown",
   "id": "58714c5a",
   "metadata": {},
   "source": [
    "### 방법\n",
    "- 버블정렬이라고 이중 for문으로 구하면 시간 제한에 걸린다.\n",
    "- 원소의 이동거리는 정렬되기까지 자신이 앞쪽으로 swap된 횟수이다.<br>\n",
    "  각 원소의 이동거리(입력 시 index - 정렬 후 index)를 구한 뒤 그 중 최댓값과 1을 더하면 총 swap이 이루어지지 않은 원소수가 나온다.\n",
    "- 함수를 적게 사용할 수록 속도, 메모리 효율이 좋다."
   ]
  },
  {
   "cell_type": "code",
   "execution_count": null,
   "id": "57dea743",
   "metadata": {},
   "outputs": [],
   "source": [
    "# 101608 KB, 928 ms\n",
    "import sys\n",
    "input = sys.stdin.readline\n",
    "n = int(input())\n",
    "data = [(int(input()), i) for i in range(n)]\n",
    "data.sort()\n",
    "\n",
    "M = 0\n",
    "for i in range(n):\n",
    "    if M < data[i][1]-i:\n",
    "        M = data[i][1]-i\n",
    "print(M+1)"
   ]
  },
  {
   "cell_type": "code",
   "execution_count": null,
   "id": "23dfee47",
   "metadata": {},
   "outputs": [],
   "source": [
    "# 121100 KB, 980 ms\n",
    "import sys\n",
    "input = sys.stdin.readline\n",
    "n = int(input())\n",
    "data = [(int(input()), i) for i in range(n)]\n",
    "data.sort()\n",
    "count = [data[i][1]-i for i in range(n)]\n",
    "print(max(count) + 1)ㅍ"
   ]
  },
  {
   "cell_type": "code",
   "execution_count": null,
   "id": "c77742f2",
   "metadata": {},
   "outputs": [],
   "source": [
    "# 137856 KB, 1720 ms\n",
    "import sys\n",
    "input = sys.stdin.readline\n",
    "n = int(input())\n",
    "data = [(int(input()), i) for i in range(n)]\n",
    "data.sort()\n",
    "print(max(map(lambda x: x[1]-x[0], zip(range(n), list(zip(*data))[1]))) + 1)"
   ]
  },
  {
   "cell_type": "code",
   "execution_count": null,
   "id": "8c76996c",
   "metadata": {},
   "outputs": [],
   "source": []
  }
 ],
 "metadata": {
  "kernelspec": {
   "display_name": "Python 3 (ipykernel)",
   "language": "python",
   "name": "python3"
  },
  "language_info": {
   "codemirror_mode": {
    "name": "ipython",
    "version": 3
   },
   "file_extension": ".py",
   "mimetype": "text/x-python",
   "name": "python",
   "nbconvert_exporter": "python",
   "pygments_lexer": "ipython3",
   "version": "3.9.7"
  }
 },
 "nbformat": 4,
 "nbformat_minor": 5
}
