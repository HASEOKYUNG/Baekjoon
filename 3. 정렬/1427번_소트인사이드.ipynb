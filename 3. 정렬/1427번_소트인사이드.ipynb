{
 "cells": [
  {
   "cell_type": "markdown",
   "id": "2bb14f83",
   "metadata": {},
   "source": [
    "## 1427번\n",
    "주어진 자연수의 각 자리수를 내림차순으로 정렬하시오.\n",
    "- 입력)자연수가 입력된다.($1\\le N \\le 1000000000$)\n",
    "- 출력)정렬한 자연수를 출력한다.\n",
    "- https://www.acmicpc.net/problem/1427"
   ]
  },
  {
   "cell_type": "markdown",
   "id": "732086e6",
   "metadata": {},
   "source": [
    "### 방법\n",
    "- 선택정렬 정의에 맞게 데이터에서 최솟값(최댓값)을 찾고 오름차순(내림차순)에 부합하는 위치에 배열하길 반복한다.\n",
    "- Python의 정렬 함수를 사용한다."
   ]
  },
  {
   "cell_type": "code",
   "execution_count": null,
   "id": "75fad17c",
   "metadata": {
    "scrolled": true
   },
   "outputs": [],
   "source": [
    "# 선택정렬 정의에 맞는 구현이다.(31120 KB, 40 ms)\n",
    "data = list(input())\n",
    "while len(data)!=0:\n",
    "    M = max(data)\n",
    "    print(M,end='')\n",
    "    data.remove(M)"
   ]
  },
  {
   "cell_type": "code",
   "execution_count": null,
   "id": "b6ec509c",
   "metadata": {},
   "outputs": [],
   "source": [
    "# sys.stdin.readline을 사용하지 않았을 때 메모리, 시간 효율이 좋았다.(30616 KB, 40 ms)\n",
    "print(''.join(sorted([i for i in input()], reverse=True)))"
   ]
  },
  {
   "cell_type": "code",
   "execution_count": null,
   "id": "70ae191f",
   "metadata": {},
   "outputs": [],
   "source": []
  }
 ],
 "metadata": {
  "kernelspec": {
   "display_name": "Python 3 (ipykernel)",
   "language": "python",
   "name": "python3"
  },
  "language_info": {
   "codemirror_mode": {
    "name": "ipython",
    "version": 3
   },
   "file_extension": ".py",
   "mimetype": "text/x-python",
   "name": "python",
   "nbconvert_exporter": "python",
   "pygments_lexer": "ipython3",
   "version": "3.9.7"
  }
 },
 "nbformat": 4,
 "nbformat_minor": 5
}
