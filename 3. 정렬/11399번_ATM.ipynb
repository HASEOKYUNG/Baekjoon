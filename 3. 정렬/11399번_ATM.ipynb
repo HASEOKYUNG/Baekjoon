{
 "cells": [
  {
   "cell_type": "markdown",
   "id": "6399ef10",
   "metadata": {},
   "source": [
    "## 11399번\n",
    "n개의 수가 입력될 때 정렬을 통해 최소인 누적합을 구하여라.\n",
    "- 입력) N이 주어지고 다음 줄에 띄어쓰기 간격으로 데이터가 주어진다.\n",
    "- 출력) 최소인 누적합을 출력한다.\n",
    "- https://www.acmicpc.net/problem/11399"
   ]
  },
  {
   "cell_type": "markdown",
   "id": "87327a4c",
   "metadata": {},
   "source": [
    "### 방법\n",
    "- 삽입정렬을 사용하여 오름차순으로 정렬한 뒤 누적합을 구한다.\n",
    "- 문제에 맞게 최댓값을 반복해 구하며 최소 누적합을 구한다."
   ]
  },
  {
   "cell_type": "code",
   "execution_count": null,
   "id": "3732ed80",
   "metadata": {},
   "outputs": [],
   "source": [
    "# 삽입정렬 구현으로 푼 코드이다.(31120 KB, 116 ms)\n",
    "n = int(input())\n",
    "data = list(map(int, input().split())) \n",
    "for i in range(1, n):\n",
    "    for j in range(i):\n",
    "        if data[j] > data[i]:\n",
    "            data[j], data[i] = data[i], data[j]\n",
    "    \n",
    "result = 0\n",
    "for i in range(1,n+1):\n",
    "    result += data[-i]*i\n",
    "print(result)"
   ]
  },
  {
   "cell_type": "code",
   "execution_count": null,
   "id": "f8553aa2",
   "metadata": {},
   "outputs": [],
   "source": [
    "# 코드가 길어진 대신 속도가 조금 개선되었다.(31120 KB, 100 ms)\n",
    "n = int(input())\n",
    "data = list(map(int, input().split())) \n",
    "\n",
    "for i in range(1, n):\n",
    "    if data[i-1] <= data[i]:\n",
    "        continue\n",
    "    else:\n",
    "        for j in range(i):\n",
    "            if data[j] > data[i]:\n",
    "                now = data.pop(i)\n",
    "                data = data[:j]+[now]+data[j:]\n",
    "\n",
    "result = 0\n",
    "for i in range(1,n+1):\n",
    "    result += data[-i]*i\n",
    "print(result)"
   ]
  },
  {
   "cell_type": "code",
   "execution_count": null,
   "id": "88878e09",
   "metadata": {},
   "outputs": [],
   "source": [
    "# 문제에 맞는 코드이다.(31120 KB, 52 ms)\n",
    "n = int(input())\n",
    "data = list(map(int, input().split())) \n",
    "result = 0\n",
    "for i in range(1, n+1):\n",
    "    m = max(data)\n",
    "    result += m*i\n",
    "    data.remove(m)\n",
    "print(result)"
   ]
  },
  {
   "cell_type": "code",
   "execution_count": null,
   "id": "fba8cdf0",
   "metadata": {},
   "outputs": [],
   "source": []
  }
 ],
 "metadata": {
  "kernelspec": {
   "display_name": "Python 3 (ipykernel)",
   "language": "python",
   "name": "python3"
  },
  "language_info": {
   "codemirror_mode": {
    "name": "ipython",
    "version": 3
   },
   "file_extension": ".py",
   "mimetype": "text/x-python",
   "name": "python",
   "nbconvert_exporter": "python",
   "pygments_lexer": "ipython3",
   "version": "3.9.7"
  }
 },
 "nbformat": 4,
 "nbformat_minor": 5
}
