{
 "cells": [
  {
   "cell_type": "markdown",
   "id": "0eadf50d",
   "metadata": {},
   "source": [
    "### 2609번\n",
    "- 두 수의 최소공배수와 최대공약수를 구하는 문제이다.\n",
    "- 소인수분해를 통해 두 수의 소인수 중 최소로 공통된 원소들 곱해 최대공약수, 모든 소인수를 곱해 최소공배수를 구한다.\n",
    "- https://www.acmicpc.net/problem/2609"
   ]
  },
  {
   "cell_type": "code",
   "execution_count": null,
   "id": "4d3b677a",
   "metadata": {},
   "outputs": [],
   "source": [
    "def IFP(n):\n",
    "    factor = dict()\n",
    "    for i in range(2, int(n**0.5)+1):\n",
    "        if n == 1:\n",
    "            break\n",
    "        else:\n",
    "            while n % i == 0:\n",
    "                factor[i] = factor.get(i, 0) + 1\n",
    "                n = n//i\n",
    "    if n > 1:\n",
    "        factor[n] = 1\n",
    "    return factor\n",
    "\n",
    "x, y = map(int, input().split())\n",
    "fx, fy = IFP(x), IFP(y)\n",
    "gcd = 1\n",
    "for i in (set(fx.keys()) & set(fy.keys())):\n",
    "    gcd *= (i * min([fx[i], fy[i]]))\n",
    "print(gcd)\n",
    "print(x*y//gcd)"
   ]
  },
  {
   "cell_type": "code",
   "execution_count": null,
   "id": "747becd0",
   "metadata": {},
   "outputs": [],
   "source": [
    "m, M = sorted(map(int, input().split()))\n",
    "\n",
    "gcd = 1\n",
    "for i in range(2, int(m**0.5)+1):\n",
    "    while (m % i == 0) & (M % i == 0):\n",
    "        gcd *= i\n",
    "        m, M = m//i, M//i\n",
    "if M % m == 0:\n",
    "    gcd *= m\n",
    "    m, M = m//m, M//m\n",
    "print(gcd)\n",
    "print(m*M*gcd)"
   ]
  },
  {
   "cell_type": "code",
   "execution_count": null,
   "id": "147606ce",
   "metadata": {},
   "outputs": [],
   "source": []
  },
  {
   "cell_type": "code",
   "execution_count": null,
   "id": "d856aaa3",
   "metadata": {},
   "outputs": [],
   "source": []
  },
  {
   "cell_type": "code",
   "execution_count": null,
   "id": "2512bc4a",
   "metadata": {},
   "outputs": [],
   "source": []
  }
 ],
 "metadata": {
  "kernelspec": {
   "display_name": "Python 3 (ipykernel)",
   "language": "python",
   "name": "python3"
  },
  "language_info": {
   "codemirror_mode": {
    "name": "ipython",
    "version": 3
   },
   "file_extension": ".py",
   "mimetype": "text/x-python",
   "name": "python",
   "nbconvert_exporter": "python",
   "pygments_lexer": "ipython3",
   "version": "3.9.7"
  }
 },
 "nbformat": 4,
 "nbformat_minor": 5
}
