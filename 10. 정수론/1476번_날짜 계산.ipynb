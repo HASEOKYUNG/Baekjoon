{
 "cells": [
  {
   "cell_type": "markdown",
   "id": "6cda6709",
   "metadata": {},
   "source": [
    "### 1476번\n",
    "- 입력받은 E, S, M은 각각 다른 범위를 가질 때 세 수의 최소공배수를 구하는 문제이다.\n",
    "- 가장 큰 범위를 갖는 M값에 범위값을 더하며 E, S가 될 수 있는 값을 찾아 출력한다.\n",
    "- https://www.acmicpc.net/problem/1476"
   ]
  },
  {
   "cell_type": "code",
   "execution_count": null,
   "id": "e7cf5ceb",
   "metadata": {},
   "outputs": [],
   "source": [
    "e, s, m = map(int, input().split())\n",
    "while True:\n",
    "    if ({0:19}.get(s%19, s%19) == m) and ({0:15}.get(s%15, s%15) == e):\n",
    "        print(s)\n",
    "        break\n",
    "    else:\n",
    "        s += 28"
   ]
  },
  {
   "cell_type": "code",
   "execution_count": null,
   "id": "e79e400d",
   "metadata": {},
   "outputs": [],
   "source": []
  }
 ],
 "metadata": {
  "kernelspec": {
   "display_name": "Python 3 (ipykernel)",
   "language": "python",
   "name": "python3"
  },
  "language_info": {
   "codemirror_mode": {
    "name": "ipython",
    "version": 3
   },
   "file_extension": ".py",
   "mimetype": "text/x-python",
   "name": "python",
   "nbconvert_exporter": "python",
   "pygments_lexer": "ipython3",
   "version": "3.9.12"
  }
 },
 "nbformat": 4,
 "nbformat_minor": 5
}
