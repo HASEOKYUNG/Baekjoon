{
 "cells": [
  {
   "cell_type": "markdown",
   "id": "60f48c0c",
   "metadata": {},
   "source": [
    "### 11653번\n",
    "- 소인수분해란 소수를 인수로 갖게 분해하는 방법으로 최소의 소수 2부터 반복해서 나눠고 3, 5, 7 ...같이 소수로 나누어야 한다.\n",
    "- 소인수분해는 약수와 같이 분해하는 방법으로 제곱근 이하의 값으로만 탐색하면 된다.\n",
    "- 1이 입력될 때 None으로 종료되어야 함에 주의해야 한다.\n",
    "- https://www.acmicpc.net/problem/11653"
   ]
  },
  {
   "cell_type": "code",
   "execution_count": null,
   "id": "99e57d0e",
   "metadata": {},
   "outputs": [],
   "source": [
    "# n이 1일 때 while문이 반복적으로 종료되며 실행되는 것은 없으나 반복이 계속되는 코드로 실행속도가 길다.(40ms)\n",
    "n = int(input())\n",
    "for i in range(2, int(n**0.5)+1):\n",
    "    while (n % i == 0) & (n != 1):\n",
    "        print(i)\n",
    "        n = n//i\n",
    "if n > 1:\n",
    "    print(n)"
   ]
  },
  {
   "cell_type": "code",
   "execution_count": null,
   "id": "3f1d6514",
   "metadata": {
    "scrolled": false
   },
   "outputs": [],
   "source": [
    "# if문으로 n이 1이 될 경우 for문이 종료되게 설정하면 빠르게 실행된다.(36ms)\n",
    "n = int(input())\n",
    "for i in range(2, int(n**0.5)+1):\n",
    "    if n == 1:\n",
    "        break\n",
    "    else:\n",
    "        while n % i == 0:\n",
    "            print(i)\n",
    "            n = n//i\n",
    "if n > 1:\n",
    "    print(n)"
   ]
  },
  {
   "cell_type": "code",
   "execution_count": null,
   "id": "2512bc4a",
   "metadata": {},
   "outputs": [],
   "source": []
  }
 ],
 "metadata": {
  "kernelspec": {
   "display_name": "Python 3 (ipykernel)",
   "language": "python",
   "name": "python3"
  },
  "language_info": {
   "codemirror_mode": {
    "name": "ipython",
    "version": 3
   },
   "file_extension": ".py",
   "mimetype": "text/x-python",
   "name": "python",
   "nbconvert_exporter": "python",
   "pygments_lexer": "ipython3",
   "version": "3.9.7"
  }
 },
 "nbformat": 4,
 "nbformat_minor": 5
}
