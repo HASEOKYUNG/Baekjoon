{
 "cells": [
  {
   "cell_type": "markdown",
   "id": "4c231231",
   "metadata": {},
   "source": [
    "## <font color='brown'>Doit!<font color='black'>알고리즘 코딩테스트 <font color='brown'>파이썬편"
   ]
  },
  {
   "cell_type": "markdown",
   "id": "5f55b7d9",
   "metadata": {},
   "source": [
    "$\\bullet$ [유형] 에라토스테네스의 체\n",
    "- 소수를 구하는 대표적인 판별법으로 구하려는 소수의 범위만큼 리스트를 생성한 뒤 가장 작은 소수 2를 시작으로 <br>\n",
    "  선택한 수의 배수를 제거하고 다음으로 큰 수를 선택하길 반복해 소수만 남긴다.\n",
    "- 범위의 최댓값을 N이라 하면 N = a\\*b인 a, b 중 하나는 N의 제곱근보다 작음으로 전범위가 아닌 `N의 제곱근`까지만 값을 탐색하면 된다.\n",
    "- 이중 for문으로 구현하기에 시간복잡도는 $O(N^2)$이나 문제에 최적화할 경우 $O(Nlog(logN))$이다.\n",
    "- https://commons.wikimedia.org/wiki/File:Sieve_of_Eratosthenes_animation.gif"
   ]
  },
  {
   "cell_type": "code",
   "execution_count": null,
   "id": "c91c2790",
   "metadata": {},
   "outputs": [],
   "source": []
  }
 ],
 "metadata": {
  "kernelspec": {
   "display_name": "Python 3 (ipykernel)",
   "language": "python",
   "name": "python3"
  },
  "language_info": {
   "codemirror_mode": {
    "name": "ipython",
    "version": 3
   },
   "file_extension": ".py",
   "mimetype": "text/x-python",
   "name": "python",
   "nbconvert_exporter": "python",
   "pygments_lexer": "ipython3",
   "version": "3.9.12"
  }
 },
 "nbformat": 4,
 "nbformat_minor": 5
}
