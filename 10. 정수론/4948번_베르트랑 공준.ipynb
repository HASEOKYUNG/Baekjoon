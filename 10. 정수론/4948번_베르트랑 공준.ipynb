{
 "cells": [
  {
   "cell_type": "markdown",
   "id": "0ad542b4",
   "metadata": {},
   "source": [
    "### 4948번\n",
    "- 입력받은 n에 대해 n+1부터 2* n까지 중에 소수의 개수를 출력하면 된다.\n",
    "- n을 입력받을 때마다 n+1부터 2* n까지 소수를 탐색하려 하면 시간초과가 난다.\n",
    "- 문제에서 주워진 n의 범위에 따라 가능한 모든 소수를 구하고 slicing으로 범위 내 소수개수만 구하도록 한다.\n",
    "- https://www.acmicpc.net/problem/4948"
   ]
  },
  {
   "cell_type": "code",
   "execution_count": null,
   "id": "5de4b17b",
   "metadata": {
    "scrolled": true
   },
   "outputs": [],
   "source": [
    "# 시간초과가 난다.\n",
    "while True:\n",
    "    n = int(input())\n",
    "    if n==0:\n",
    "        break\n",
    "    else:\n",
    "        k = 0\n",
    "        for x in range(n+1, 2*n+1):\n",
    "            for y in range(2, int(x**0.5)+1):\n",
    "                if x%y==0:\n",
    "                    break\n",
    "            else:\n",
    "                k += 1\n",
    "        print(k)"
   ]
  },
  {
   "cell_type": "code",
   "execution_count": null,
   "id": "83649932",
   "metadata": {
    "scrolled": true
   },
   "outputs": [],
   "source": [
    "# 모든 가능한 소수를 구해둔다.\n",
    "prime = [0]*(123456*2)\n",
    "for n in range(2, 123456*2+1):\n",
    "    for x in range(2, int(n**0.5)+1):\n",
    "        if n%x==0:\n",
    "            break\n",
    "    else:\n",
    "        prime[n-1]=1\n",
    "        \n",
    "while True:\n",
    "    n = int(input())\n",
    "    if n==0:\n",
    "        break\n",
    "    else:\n",
    "        print(sum(prime[n:2*n]))"
   ]
  },
  {
   "cell_type": "code",
   "execution_count": null,
   "id": "56ebaeb1",
   "metadata": {},
   "outputs": [],
   "source": []
  }
 ],
 "metadata": {
  "kernelspec": {
   "display_name": "Python 3 (ipykernel)",
   "language": "python",
   "name": "python3"
  },
  "language_info": {
   "codemirror_mode": {
    "name": "ipython",
    "version": 3
   },
   "file_extension": ".py",
   "mimetype": "text/x-python",
   "name": "python",
   "nbconvert_exporter": "python",
   "pygments_lexer": "ipython3",
   "version": "3.9.12"
  }
 },
 "nbformat": 4,
 "nbformat_minor": 5
}
