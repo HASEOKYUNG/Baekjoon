{
 "cells": [
  {
   "cell_type": "markdown",
   "id": "25b74c07",
   "metadata": {},
   "source": [
    "### 9506번\n",
    "- 입력된 수 n의 약수를 구하고 n을 제외한 약수의 합이 n과 같다면 사칙연산식으로 표현하고 아니면 특정 문구를 출력한다.\n",
    "- 사칙연산식으로 표현하기 위해 약수를 list로 저장해두며 출력 시 sorted를 사용해 오름차순으로 연산식이 작성되게 해야 한다.\n",
    "- list로 담고 comprehension으로 문자열 변경 후 join으로 출력함에 런타임 오류가 날 줄 알았지만 그렇진 않았다.\n",
    "- 다른 방법으로 total이란 약수의 합을 저장하는 변수, aliquot이란 문자열로 변환한 약수를 담은 리스트를 활용하고자 했는데<br>\n",
    "  사칙연산식을 완성하기 위해 sorted(aliquot)를 하면 1, 14, 2, 28, ... 등 첫번째 문자열의 ascii값으로 정렬하는 문제가 있어 포기했다.\n",
    "- https://www.acmicpc.net/problem/9506"
   ]
  },
  {
   "cell_type": "code",
   "execution_count": null,
   "id": "9774970d",
   "metadata": {},
   "outputs": [],
   "source": [
    "while True:\n",
    "    n = int(input())\n",
    "    if n == -1:\n",
    "        break\n",
    "    else:\n",
    "        aliquot = list()\n",
    "        for i in range(1, int(n**0.5)+1):\n",
    "            if n % i == 0:\n",
    "                aliquot += [i, n//i]\n",
    "        if (2*n) == sum(aliquot):\n",
    "            print(f'{n} = {\" + \".join([str(i) for i in sorted(aliquot)[:-1]])}')\n",
    "        else:\n",
    "            print(f'{n} is NOT perfect.')"
   ]
  },
  {
   "cell_type": "code",
   "execution_count": null,
   "id": "59a2ff23",
   "metadata": {},
   "outputs": [],
   "source": []
  }
 ],
 "metadata": {
  "kernelspec": {
   "display_name": "Python 3 (ipykernel)",
   "language": "python",
   "name": "python3"
  },
  "language_info": {
   "codemirror_mode": {
    "name": "ipython",
    "version": 3
   },
   "file_extension": ".py",
   "mimetype": "text/x-python",
   "name": "python",
   "nbconvert_exporter": "python",
   "pygments_lexer": "ipython3",
   "version": "3.9.12"
  }
 },
 "nbformat": 4,
 "nbformat_minor": 5
}
