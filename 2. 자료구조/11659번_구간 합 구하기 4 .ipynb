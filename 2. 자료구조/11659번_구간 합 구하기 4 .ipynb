{
 "cells": [
  {
   "cell_type": "markdown",
   "id": "7a1eedce",
   "metadata": {},
   "source": [
    "## 11659번\n",
    "수 N개가 주어졌을 때, i번째 수부터 j번째 수까지 합을 구하시오.\n",
    "- 입력) 첫 줄에 N과 test case수가 주어지고 다음 줄에 N개의 수가 주어진다. 이후 test case개 줄로 i와 j가 주어진다.\n",
    "- 출력) test case에 해당하는 구간 합을 줄별로 출력한다.\n",
    "- https://www.acmicpc.net/problem/11659"
   ]
  },
  {
   "cell_type": "markdown",
   "id": "01526859",
   "metadata": {},
   "source": [
    "### 방법\n",
    "- 시간 제한과 메모리 제한으로 데이터를 저장한 뒤 매 test case마다 sum함수로 구간 합을 구할 경우 시간초과가 발생한다.\n",
    "- 누적합 리스트 ssum을 작성해 i번째 수부터 j번째 수까지의 합을 ssum[i-1]과 ssum[j]의 차로 구한다.<br>\n",
    "  이때, 누적합 리스트를 빈 list에 한 원소씩 추가할 경우 런타임에러가 난다.<br>\n",
    "  첫 번째 누적합 리스트 원소 `0을 가진 리스트`에 한 원소씩 추가해야만 본 문제의 조건을 모두 만족할 수 있다."
   ]
  },
  {
   "cell_type": "code",
   "execution_count": null,
   "id": "e2270b59",
   "metadata": {},
   "outputs": [],
   "source": [
    "# 매번 구간 합을 구하여 시간초과가 발생한다.\n",
    "_, n = map(int, input().split())\n",
    "data = list(map(int, input().split()))\n",
    "\n",
    "for i in range(n):\n",
    "    s, e = map(int, input().split())\n",
    "    print(sum(data[s-1:e]))"
   ]
  },
  {
   "cell_type": "code",
   "execution_count": null,
   "id": "74e6883e",
   "metadata": {},
   "outputs": [],
   "source": [
    "# 빈 list에 원소를 추가하여 런타임에러가 난다.\n",
    "# import sys\n",
    "# input = sys.stdin.readline\n",
    "s, n = map(int, input().split())\n",
    "\n",
    "ssum, v = list(), 0\n",
    "for N in map(int, input().split()):\n",
    "    ssum.append(v)\n",
    "    v += N\n",
    "    \n",
    "for i in range(n):\n",
    "    a, b = map(int, input().split())\n",
    "    print(ssum[b] - ssum[a-1])"
   ]
  },
  {
   "cell_type": "code",
   "execution_count": null,
   "id": "1adaefb7",
   "metadata": {},
   "outputs": [],
   "source": [
    "# 데이터 추가할 때 미리 원소가 1개라도 있는 list에 넣는게 빠르다.\n",
    "# 42340 KB, 248 ms\n",
    "import sys\n",
    "input = sys.stdin.readline\n",
    "_, n = map(int, input().split())\n",
    "\n",
    "ssum, v = [0], 0\n",
    "for N in map(int, input().split()):\n",
    "    v += N\n",
    "    ssum.append(v)\n",
    "    \n",
    "for i in range(n):\n",
    "    a, b = map(int, input().split())\n",
    "    print(ssum[b] - ssum[a-1])"
   ]
  },
  {
   "cell_type": "code",
   "execution_count": null,
   "id": "87046640",
   "metadata": {},
   "outputs": [],
   "source": []
  }
 ],
 "metadata": {
  "kernelspec": {
   "display_name": "Python 3 (ipykernel)",
   "language": "python",
   "name": "python3"
  },
  "language_info": {
   "codemirror_mode": {
    "name": "ipython",
    "version": 3
   },
   "file_extension": ".py",
   "mimetype": "text/x-python",
   "name": "python",
   "nbconvert_exporter": "python",
   "pygments_lexer": "ipython3",
   "version": "3.9.12"
  }
 },
 "nbformat": 4,
 "nbformat_minor": 5
}
