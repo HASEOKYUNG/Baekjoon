{
 "cells": [
  {
   "attachments": {
    "image-2.png": {
     "image/png": "[encoded data removed]"
    },
    "image.png": {
     "image/png": "[encoded data removed]"
    }
   },
   "cell_type": "markdown",
   "id": "cd443ba4",
   "metadata": {},
   "source": [
    "## 10986번\n",
    "데이터의 $i$번째 원소부터 $j$번째 원소까지 합이 M으로 나누어 떨어지는 $(i, j)$ 쌍 개수를 구하시오.\n",
    "- 입력)첫 줄에 데이터수와 M이 주어지고 다음 줄에 데이터가 입력된다.\n",
    "  ![image.png](attachment:image.png)\n",
    "- 출력)$(i, j)$쌍 개수를 출력한다. 이때, $i \\le j$이다.\n",
    "  ![image-2.png](attachment:image-2.png)\n",
    "  <center>(7개의 $(i, j)$쌍은 (2,2), (0,1), (0,2), (0,4), (1,3), (2,4), (3,4)이다.)</center>\n",
    "- https://www.acmicpc.net/problem/10986"
   ]
  },
  {
   "cell_type": "markdown",
   "id": "e04a89f0",
   "metadata": {},
   "source": [
    "### 방법\n",
    "- 연속된 구간합(sum(data[i:j+1]))은 누적합 행렬의 차($S[j]-S[i-1]$)로 가능하며 $(S[j]-S[i-1]) \\% M = 0$인 $(i, j)$를 찾는 것이 목표이다.<br>\n",
    "  수식을 전개하면 $S[j]\\%M = S[i-1]\\%M$인, M으로 나눈 나머지가 같은 누적합 행렬 원소를 찾으면 된다.\n",
    "- 위와 같은 수식으로 문제를 해결하고자 할때 $i=0$이면 오류가 남으로<br>\n",
    "  0번째 원소부터 $j$번째 원소까지 합한 누적합 배열을 만들고 배열의 원소 중 M으로 나눈 나머지가 0인 개수를 세어야 한다."
   ]
  },
  {
   "cell_type": "code",
   "execution_count": null,
   "id": "e2ff84e1",
   "metadata": {},
   "outputs": [],
   "source": [
    "# 정의대로 구현하면 시간초과가 난다.\n",
    "import sys\n",
    "\n",
    "input = sys.stdin.readline\n",
    "n, m = map(int, input().split())\n",
    "data = list(map(int, input().split()))\n",
    "\n",
    "count = 0\n",
    "for x in range(n):\n",
    "    s = 0\n",
    "    for y in range(x, n):\n",
    "        s += data[y]\n",
    "        if s%m == 0:\n",
    "            count += 1\n",
    "print(count)"
   ]
  },
  {
   "cell_type": "code",
   "execution_count": null,
   "id": "cc8cd120",
   "metadata": {},
   "outputs": [],
   "source": [
    "# 단순히 누적합만 고려해 구현해도 시간초과 오류가 난다. 내장함수를 많이 사용해 일어난 문제같다.\n",
    "import sys\n",
    "\n",
    "input = sys.stdin.readline\n",
    "n, m = map(int, input().split())\n",
    "s, ssum = 0, []\n",
    "for i in map(int, input().split()):\n",
    "    s += i\n",
    "    ssum.append(s%m)\n",
    "\n",
    "c = ssum.count(0)\n",
    "for i in range(m):\n",
    "    r = ssum.count(i)\n",
    "    if r >= 2:\n",
    "        c +=  (r*(r-1))//2\n",
    "print(c)"
   ]
  },
  {
   "cell_type": "code",
   "execution_count": null,
   "id": "21cf1a7b",
   "metadata": {},
   "outputs": [],
   "source": [
    "# 116628 KB, 636 ms\n",
    "import sys\n",
    "\n",
    "input = sys.stdin.readline\n",
    "n, m = map(int, input().split())\n",
    "c = 0\n",
    "s, rest = 0, [0]*m\n",
    "for i in map(int, input().split()):\n",
    "    s += i\n",
    "    rest[s%m] += 1\n",
    "    if s%m == 0:\n",
    "        c += 1\n",
    "\n",
    "for i in rest:\n",
    "    if i >= 2:\n",
    "        c += (i*(i-1)//2)\n",
    "print(c)"
   ]
  },
  {
   "cell_type": "code",
   "execution_count": null,
   "id": "8f600286",
   "metadata": {},
   "outputs": [],
   "source": [
    "# 117652 KB, 532 ms\n",
    "import sys\n",
    "\n",
    "input = sys.stdin.readline\n",
    "n, m = map(int, input().split())\n",
    "\n",
    "# (이전 나머지 + 현재시점 데이터)%m = 이전 나머지 + (현재시점 데이터 % m)으로 누적합 후 나머지를 구할 수 있다. \n",
    "r, rest = 0, [0]*m\n",
    "for i in map(int, input().split()):\n",
    "    r = (r+i)%m\n",
    "    rest[r] += 1\n",
    "\n",
    "c = rest[0]\n",
    "for i in rest:\n",
    "    if i >= 2:\n",
    "        c += (i*(i-1)//2)\n",
    "print(c)"
   ]
  },
  {
   "cell_type": "code",
   "execution_count": null,
   "id": "185d74bd",
   "metadata": {},
   "outputs": [],
   "source": []
  }
 ],
 "metadata": {
  "kernelspec": {
   "display_name": "Python 3 (ipykernel)",
   "language": "python",
   "name": "python3"
  },
  "language_info": {
   "codemirror_mode": {
    "name": "ipython",
    "version": 3
   },
   "file_extension": ".py",
   "mimetype": "text/x-python",
   "name": "python",
   "nbconvert_exporter": "python",
   "pygments_lexer": "ipython3",
   "version": "3.9.7"
  }
 },
 "nbformat": 4,
 "nbformat_minor": 5
}
