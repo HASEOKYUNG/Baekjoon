{
 "cells": [
  {
   "cell_type": "markdown",
   "id": "e8bbe49c",
   "metadata": {},
   "source": [
    "## 17298번\n",
    "N개 양수로 구성된 수열의 각 원소에 대해 오른쪽에 위치한 해당 원소보다 큰 값들 중 가장 가까운 값을 구하시오.\n",
    "- 입력)수열의 길이 N이 주어지고 다음 줄에 띄어쓰기 간격으로 수열이 주어진다.\n",
    "- 출력)각 원소의 오큰수를 출력한다. 단, 오큰수가 없으면 -1을 출력해야 한다. \n",
    "- https://www.acmicpc.net/problem/17298"
   ]
  },
  {
   "cell_type": "markdown",
   "id": "e29c8b7c",
   "metadata": {},
   "source": [
    "### 방법\n",
    "- N번째 원소는 오른쪽에 원소가 없어 -1을 출력해야 하고 오큰수가 없을 가능성이 꽤 높기에 출력할 리스트의 default값을 -1로 지정한다.\n",
    "- $A_i(2\\le i < N)$ 다음으로 큰 값이 $A_j(i\\le j \\le N)$이면 i번째부터 j-1번째 원소의 오큰수는 $A_j$이다.\n",
    "- 반복문으로 $i, i+1$번째 값간 비교로 마지막 오큰수보다 큰 값을 찾은 뒤 <br>\n",
    "  마지막 오큰수의 index부터 탐색한 오큰수의 index까지의 출력값을 변경하면 된다."
   ]
  },
  {
   "cell_type": "code",
   "execution_count": null,
   "id": "a34db0ad",
   "metadata": {},
   "outputs": [],
   "source": [
    "# 163164 KB, 912 ms\n",
    "import sys\n",
    "input = sys.stdin.readline\n",
    "n = int(input())\n",
    "data = list(map(int, input().split()))\n",
    "ans = ['-1']*n\n",
    "# 오큰수가 결정되지 않은 index들을 저장함\n",
    "stack = []\n",
    "\n",
    "for i in range(n):\n",
    "    # i번째 값이 stack[0]번째 이후로 최댓값이면 반복문을 사용해 ans[stack[0]:stack[-1]]를 i번째 값으로 저장\n",
    "    while stack and data[stack[-1]] < data[i]:\n",
    "        ans[stack.pop()] = str(data[i])\n",
    "    stack.append(i)    \n",
    "print(' '.join(ans))"
   ]
  },
  {
   "cell_type": "code",
   "execution_count": null,
   "id": "b4970107",
   "metadata": {},
   "outputs": [],
   "source": [
    "# 예외처리로 코드를 작성할 경우 시간 초과가 난다.\n",
    "import sys\n",
    "input = sys.stdin.readline\n",
    "n = int(input())\n",
    "data = list(map(int, input().split()))\n",
    "\n",
    "for i in range(n):\n",
    "    k = i+1\n",
    "    try:\n",
    "        while data[i] >= data[k]:\n",
    "            k += 1\n",
    "        print(data[k], end=' ')\n",
    "    except:\n",
    "        print('-1', end=' ')"
   ]
  },
  {
   "cell_type": "code",
   "execution_count": null,
   "id": "36127831",
   "metadata": {},
   "outputs": [],
   "source": []
  }
 ],
 "metadata": {
  "kernelspec": {
   "display_name": "Python 3 (ipykernel)",
   "language": "python",
   "name": "python3"
  },
  "language_info": {
   "codemirror_mode": {
    "name": "ipython",
    "version": 3
   },
   "file_extension": ".py",
   "mimetype": "text/x-python",
   "name": "python",
   "nbconvert_exporter": "python",
   "pygments_lexer": "ipython3",
   "version": "3.9.7"
  }
 },
 "nbformat": 4,
 "nbformat_minor": 5
}
