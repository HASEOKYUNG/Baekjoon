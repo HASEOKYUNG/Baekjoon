{
 "cells": [
  {
   "cell_type": "markdown",
   "id": "8b56ab6d",
   "metadata": {},
   "source": [
    "## <font color='brown'>Doit!<font color='black'>알고리즘 코딩테스트 <font color='brown'>파이썬편\n",
    "$\\bullet$ 배열과 리스트 차이\n",
    "- 배열은 선언 시 크기가 고정되며 삽입/삭제가 어렵다.\n",
    "- 리스트는 Head 포인터로 입력 순서에 따라 데이터에 접근해 속도가 느리나 삽입/삭제를 빠르게 수행하고<br>\n",
    "  크기가 정해져 있지 않은 대신 포인터 저장 공간도 필요해 배열보다 구조가 복잡하다.\n",
    "\n",
    "$\\bullet$ **`[유형]`** 구간 합 구하기\n",
    "- 순서가 있는 자료형의 $i$번째 원소부터 $j$번째 원소까지의 합을 구하는 유형을 예로 설명한다.\n",
    "- 위에서 언급한 구간 합은 $i$와 $j$가 새롭게 주어질 때마다 구간 합을 구하면 시간초과가 나기 쉽상이다.<br>\n",
    "  이렇듯 조건이 바뀔 때마다 값을 구하기 어려운 문제는 미리 간단한 사칙연산이나 indexing으로 답을 구하도록 **정리된 자료형**을 만들어두면 좋다.\n",
    "- 자료형을 만들 때는 index가 유의미할 경우 크기를 지정한 배열에 위치에 맞는 값을 저장하고<br>\n",
    "  index가 유의미하지 않을 경우, 순서대로 저장만 해도 된다면 append로 원소를 추가해 나가면 된다."
   ]
  },
  {
   "cell_type": "code",
   "execution_count": null,
   "id": "f4d000b0",
   "metadata": {},
   "outputs": [],
   "source": [
    "# 11659번\n",
    "# ssum[i]는 i번째 원소까지의 누적합이다. 누적합을 담은 ssum으로 i번째부터 j번째 원소의 구간합은 ssum[j] - ssum[i-1]로 가능하다.\n",
    "import sys\n",
    "input = sys.stdin.readline\n",
    "_, n = map(int, input().split())\n",
    "\n",
    "ssum, v = [0], 0\n",
    "for N in map(int, input().split()):\n",
    "    v += N\n",
    "    ssum.append(v)\n",
    "    \n",
    "for i in range(n):\n",
    "    a, b = map(int, input().split())\n",
    "    print(ssum[b] - ssum[a-1])"
   ]
  },
  {
   "cell_type": "markdown",
   "id": "458ff070",
   "metadata": {},
   "source": [
    "$\\bullet$ **`[유형]`** 투 포인터\n",
    "  - 구간 합 유형과 달리 연속된 데이터 및 정렬된 데이터에 투 포인터(start, end)를 움직이며 포인터 구간 합을 대소비교하는 유형이다.\n",
    "  - 특정 수와 구간 합을 비교하는 문제로 현재 시점의 구간 합이 특정 수보다 작다면 end포인터를 우측으로 움직여 구간 합을 키우고 특정 수보다 크다면 start포인터를 우측으로 움직여 구간 합을 줄이며 문제 조건에 부합한 구간을 구한다. "
   ]
  },
  {
   "cell_type": "markdown",
   "id": "da80121d",
   "metadata": {},
   "source": [
    "$\\bullet$  `[유형]` 슬라이딩 윈도우\n",
    "  - 투 포인터가 고정된 window 간격을 유지한 채로 움직이며 문제를 해결하는 유형이다.\n",
    "  - 새로운 범위를 탐색할 때 이전 탐색 범위의 맨 앞 값을 삭제, 맨 뒤 값은 추가하는 방식으로 범위를 재정의한다."
   ]
  },
  {
   "cell_type": "markdown",
   "id": "64ca7d0f",
   "metadata": {},
   "source": [
    "$\\bullet$  스택과 큐 차이\n",
    "- 스택은 삽입, 삭제 연산이 같은 쪽에서, **후입선출**로 이루어진다. 즉, 한 개의 pointer가 사용된다.\n",
    "- 큐는 삽입, 삭제 연산이 각각 반대쪽에서, **선입선출**로 이루어진다. 즉, 두 개의 pointer가 사용된다.\n",
    "- 스택은 깊이 우선 탐색과 백트래킹에서, 큐는 너비 우선 탐색에서 많이 사용된다.\n",
    "\n",
    "$~~$ ※ 우선순위 큐는 들어간 순서와 상관없이 우선순위에 따라 데이터가 출력되는 자료구조이다. 트리 종류 중 하나인 힙으로 구현한다."
   ]
  },
  {
   "cell_type": "code",
   "execution_count": null,
   "id": "c2a0477b",
   "metadata": {},
   "outputs": [],
   "source": []
  }
 ],
 "metadata": {
  "kernelspec": {
   "display_name": "Python 3 (ipykernel)",
   "language": "python",
   "name": "python3"
  },
  "language_info": {
   "codemirror_mode": {
    "name": "ipython",
    "version": 3
   },
   "file_extension": ".py",
   "mimetype": "text/x-python",
   "name": "python",
   "nbconvert_exporter": "python",
   "pygments_lexer": "ipython3",
   "version": "3.9.12"
  }
 },
 "nbformat": 4,
 "nbformat_minor": 5
}
