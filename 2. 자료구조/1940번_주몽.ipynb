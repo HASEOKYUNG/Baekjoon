{
 "cells": [
  {
   "cell_type": "markdown",
   "id": "19e4d09b",
   "metadata": {},
   "source": [
    "## 1940번\n",
    "N개의 숫자 중 2개 수를 더해 M이 되는 경우의 수를 구하시오.\n",
    "- 입력)첫번째 줄에 N$(1\\leq N \\leq 15000)$이 주어지고 두번째 줄에 M, 세번째 줄에 띄어쓰기 간격으로 N개의 숫자가 주어진다.\n",
    "- 출력)$N_i+N_j(i\\neq j)=M$을 만족하는 $(i, j)$의 총 개수를 출력한다."
   ]
  },
  {
   "cell_type": "markdown",
   "id": "8fbbd12d",
   "metadata": {},
   "source": [
    "## 방법\n",
    "- N개 숫자를 정렬한 뒤 두 개의 포인터, si과 ei이 각각 최솟값, 최댓값에서 중앙값쪽으로 움직이도록 한다.\n",
    "- 양쪽에서 중앙으로 움직임으로써 <br>\n",
    "  si+ei이 M보다 작으면 si가 직후값을 참조하도록, M보다 크면 ei가 다음으로 직전값을 참조하도록 명확히 지정할 수 있다.\n",
    "- si와 ei가 같아지거나 전환될 경우 탐색을 종료하도록 한다."
   ]
  },
  {
   "cell_type": "code",
   "execution_count": null,
   "id": "a7bfe6a1",
   "metadata": {},
   "outputs": [],
   "source": [
    "# 32276 KB, 52 ms\n",
    "import sys\n",
    "input = sys.stdin.readline\n",
    "n, m = int(input()), int(input())\n",
    "data = sorted(list(map(int, input().split())))\n",
    "\n",
    "count = 0\n",
    "si, ei = 0, n-1\n",
    "while si < ei:\n",
    "    s = data[si]+data[ei]\n",
    "    if s == m:\n",
    "        count += 1\n",
    "        # 새로운 값에 대해 탐색하도록 변경\n",
    "        si += 1\n",
    "        ei -= 1\n",
    "    elif s < m:\n",
    "        si += 1\n",
    "    else:\n",
    "        ei -= 1\n",
    "print(count)"
   ]
  },
  {
   "cell_type": "code",
   "execution_count": null,
   "id": "629322c0",
   "metadata": {},
   "outputs": [],
   "source": []
  }
 ],
 "metadata": {
  "kernelspec": {
   "display_name": "Python 3 (ipykernel)",
   "language": "python",
   "name": "python3"
  },
  "language_info": {
   "codemirror_mode": {
    "name": "ipython",
    "version": 3
   },
   "file_extension": ".py",
   "mimetype": "text/x-python",
   "name": "python",
   "nbconvert_exporter": "python",
   "pygments_lexer": "ipython3",
   "version": "3.9.12"
  }
 },
 "nbformat": 4,
 "nbformat_minor": 5
}
