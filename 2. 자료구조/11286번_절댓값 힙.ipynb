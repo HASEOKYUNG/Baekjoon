{
 "cells": [
  {
   "cell_type": "markdown",
   "id": "1841c743",
   "metadata": {},
   "source": [
    "## 11286번\n",
    "N번 정수를 입력받을 때, 0이면 배열 내 절댓값이 가장 작은 값을 출력하고 아니면 저장하길 수행해라. \n",
    "- 입력)연산의 개수 N이 주어지고 다음 줄부터 N개의 정수가 입력된다.\n",
    "- 출력)0이 주어질 때마다 최솟값을 출력하되 배열이 비어있는 경우엔 0을 출력해야 한다.\n",
    "- https://www.acmicpc.net/problem/11286"
   ]
  },
  {
   "cell_type": "markdown",
   "id": "4720ac1b",
   "metadata": {},
   "source": [
    "### 방법\n",
    "- 절댓값 힙트리를 구현하라는 문제로 우선순위큐나 힙트리를 사용한 뒤 정렬 기준을 절댓값으로 설정하면 된다.\n",
    "- 우선순위큐는 put으로 push, get으로 pop하고 힙트리는 heappush로 push, heappop으로 pop한다."
   ]
  },
  {
   "cell_type": "code",
   "execution_count": null,
   "id": "be433b7e",
   "metadata": {},
   "outputs": [],
   "source": [
    "# 우선순위큐를 사용해 절댓값 힙트리를 구현한 것이다.\n",
    "# 43432 KB, 284 ms\n",
    "import sys\n",
    "input = sys.stdin.readline\n",
    "from queue import PriorityQueue\n",
    "pqueue = PriorityQueue()\n",
    "\n",
    "for i in range(int(input())):\n",
    "    k = int(input())\n",
    "    if k==0:\n",
    "        print('0' if pqueue.empty() else pqueue.get()[1])\n",
    "    else:\n",
    "        # 절댓값이 같으면 음수 우선 정렬하도록 함\n",
    "        pqueue.put((abs(k),k))"
   ]
  },
  {
   "cell_type": "code",
   "execution_count": null,
   "id": "480fa3c3",
   "metadata": {
    "scrolled": true
   },
   "outputs": [],
   "source": [
    "# 힙트리를 가져와 변형하는 방법이다.\n",
    "# 39824 KB, 144 ms\n",
    "import sys, heapq\n",
    "input = sys.stdin.readline\n",
    "pqueue = []\n",
    "\n",
    "for i in range(int(input())):\n",
    "    k = int(input())\n",
    "    if k==0:\n",
    "        print('0' if len(pqueue)==0 else heapq.heappop(pqueue)[1])\n",
    "    else:\n",
    "        heapq.heappush(pqueue, (abs(k),k))"
   ]
  },
  {
   "cell_type": "code",
   "execution_count": null,
   "id": "461da467",
   "metadata": {},
   "outputs": [],
   "source": []
  }
 ],
 "metadata": {
  "kernelspec": {
   "display_name": "Python 3 (ipykernel)",
   "language": "python",
   "name": "python3"
  },
  "language_info": {
   "codemirror_mode": {
    "name": "ipython",
    "version": 3
   },
   "file_extension": ".py",
   "mimetype": "text/x-python",
   "name": "python",
   "nbconvert_exporter": "python",
   "pygments_lexer": "ipython3",
   "version": "3.9.7"
  }
 },
 "nbformat": 4,
 "nbformat_minor": 5
}
