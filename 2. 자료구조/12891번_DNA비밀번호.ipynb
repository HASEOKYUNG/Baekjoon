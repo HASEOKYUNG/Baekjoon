{
 "cells": [
  {
   "cell_type": "markdown",
   "id": "998928f8",
   "metadata": {},
   "source": [
    "## 12891번\n",
    "A, C, G, T로 구성된 N개 문자열 내 $l$개로 구성된 연속 부분 문자열 중 A, C, G, T를 각각 최소개수 이상 포함한 경우의 수를 구하시오.\n",
    "- 입력) 첫째 줄에 전체 문자열 길이 $N$와 부분 문자열 길이 $l$이 주어지고<br>\n",
    "  $\\qquad$ 둘째 줄에 A, C, G, T로 구성된 $N$개 문자열, 셋째 줄에 A, C, G, T별 최소개수가 띄어쓰기 간격으로 주어진다.\n",
    "- 출력) A, C, G, T를 각각 최소개수 이상 포함한 $l$개로 구성된 문자열 총 개수를 구한다.\n",
    "- https://www.acmicpc.net/problem/12891"
   ]
  },
  {
   "cell_type": "markdown",
   "id": "2c68d137",
   "metadata": {},
   "source": [
    "## 방법1\n",
    "- 0번째 index부터 $N-l$번째 index까지 길이가 $l$인 부분 문자열을 탐색한다.\n",
    "- 각 부분 문자열 중 A, C, G, T 최소개수를 모두 보장하는 부분 문자열의 개수만 구한다."
   ]
  },
  {
   "cell_type": "code",
   "execution_count": null,
   "id": "f64ce93d",
   "metadata": {},
   "outputs": [],
   "source": [
    "# 시간초과 오류가 난다.\n",
    "t, l = map(int, input().split())\n",
    "dna = input()\n",
    "con = zip('ACGT', map(int, input().split()))\n",
    "count = 0\n",
    "for i in range(t-l+1):\n",
    "    p = dna[i:i+l]\n",
    "    for x in con:\n",
    "        if p.count(x[0]) < x[1]:\n",
    "            break\n",
    "    else:\n",
    "        count+=1\n",
    "print(count)"
   ]
  },
  {
   "cell_type": "markdown",
   "id": "564d5445",
   "metadata": {},
   "source": [
    "## 방법2\n",
    "- N개 문자열 중 0번째부터 $l-2$번째 데이터 내 A, C, G, T별 개수와 각 문자의 최소개수를 뺀 값을 담은 딕셔너리를 만든다.\n",
    "- 이후 $l$번째 데이터 문자의 개수를 1 더하고 딕셔너리 값이 모두 양수인지, 모든 문자의 최소개수가 보장되는지 확인한 뒤<br>\n",
    "  다음 문자열 탐색을 위해 시작 데이터 문자의 개수를 1 빼고 $l+1$번째 데이터 문자의 개수를 1 더하는 방식으로 탐색을 반복한다."
   ]
  },
  {
   "cell_type": "code",
   "execution_count": null,
   "id": "c67119fe",
   "metadata": {},
   "outputs": [],
   "source": [
    "# 33052 KB, 440 ms\n",
    "t, l = map(int, input().split())\n",
    "dna = input()\n",
    "con = list(map(int, input().split()))\n",
    "con = {v:dna[:l-1].count(v)-con[i] for i, v in enumerate('ACGT')}\n",
    "count = 0\n",
    "\n",
    "e = l-1\n",
    "while e < t:\n",
    "    con[dna[e]] += 1\n",
    "    for i in con.values():\n",
    "        if i < 0:\n",
    "            break\n",
    "    else:\n",
    "        count += 1\n",
    "    con[dna[e-l+1]] -= 1\n",
    "    e += 1\n",
    "print(count)"
   ]
  },
  {
   "cell_type": "code",
   "execution_count": null,
   "id": "11c10827",
   "metadata": {},
   "outputs": [],
   "source": []
  }
 ],
 "metadata": {
  "kernelspec": {
   "display_name": "Python 3 (ipykernel)",
   "language": "python",
   "name": "python3"
  },
  "language_info": {
   "codemirror_mode": {
    "name": "ipython",
    "version": 3
   },
   "file_extension": ".py",
   "mimetype": "text/x-python",
   "name": "python",
   "nbconvert_exporter": "python",
   "pygments_lexer": "ipython3",
   "version": "3.9.7"
  }
 },
 "nbformat": 4,
 "nbformat_minor": 5
}
