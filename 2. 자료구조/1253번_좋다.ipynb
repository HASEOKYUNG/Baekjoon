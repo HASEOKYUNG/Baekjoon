{
 "cells": [
  {
   "cell_type": "markdown",
   "id": "19e4d09b",
   "metadata": {},
   "source": [
    "## 1253번\n",
    "주어진 N개의 수 중 $N_k = N_i+N_j(i\\neq j)$로 표현되는 $k$의 개수를 구하시오.\n",
    "- 입력) 첫 줄에 N$(1\\leq N \\leq 2000)$, 두번째 줄에 띄어쓰기 간격으로 N개의 수가 주어진다.<br>\n",
    "  $\\qquad$단, `데이터는 음수도 가능하다.`\n",
    "- 출력) $k$의 총 개수를 출력한다."
   ]
  },
  {
   "cell_type": "markdown",
   "id": "2351d266",
   "metadata": {},
   "source": [
    "## 방법\n",
    "- 본 문제는 음수 데이터가 입력될 수 있으며 중복값이 존재할 수도 있다. <br>\n",
    "  이에 서로 다른 두 수의 합으로 표현되어야 함에도 0번째 데이터부터 탐색해야 한다.\n",
    "- $k$번째 데이터 이전의 데이터만이 아닌 전체 데이터를 탐색해야 하여 탐색범위에 $k$번째 데이터도 포함되어 있다.<br> \n",
    "  별도로 $k$번째 데이터를 포함시키지 않기 위해 제외한 데이터를 선언한다. \n",
    "- 다른 투 포인트 예제와 같이 정렬된 탐색 데이터의 양끝에서 포인터를 시작해 <br>\n",
    "  두 포인터가 가르키는 데이터의 합이 $k$번째 데이터보다 크면 오른쪽 끝 포인터를 직전으로,<br>\n",
    "  두 포인터가 가르키는 데이터의 합이 $k$번째 데이터보다 작으면 왼쪽 끝 포인터를 직후로 옮기며 탐색한다."
   ]
  },
  {
   "cell_type": "code",
   "execution_count": null,
   "id": "b8f43d42",
   "metadata": {},
   "outputs": [],
   "source": [
    "# 31120 KB, 1184 ms\n",
    "N = int(input())\n",
    "if N <= 2:\n",
    "    print(0)\n",
    "else:\n",
    "    data = sorted(list(map(int, input().split())))\n",
    "    count = 0\n",
    "    for k in range(N):\n",
    "        rdata = data[:k] + data[k+1:]\n",
    "        m, M = 0, N-2\n",
    "        while m < M:\n",
    "            s = rdata[m]+rdata[M]\n",
    "            if s == data[k]:\n",
    "                count+=1\n",
    "                break\n",
    "            elif s < data[k]:\n",
    "                m += 1\n",
    "            else:\n",
    "                M -= 1\n",
    "    print(count)"
   ]
  },
  {
   "cell_type": "code",
   "execution_count": null,
   "id": "9c6f10f8",
   "metadata": {},
   "outputs": [],
   "source": []
  }
 ],
 "metadata": {
  "kernelspec": {
   "display_name": "Python 3 (ipykernel)",
   "language": "python",
   "name": "python3"
  },
  "language_info": {
   "codemirror_mode": {
    "name": "ipython",
    "version": 3
   },
   "file_extension": ".py",
   "mimetype": "text/x-python",
   "name": "python",
   "nbconvert_exporter": "python",
   "pygments_lexer": "ipython3",
   "version": "3.9.12"
  }
 },
 "nbformat": 4,
 "nbformat_minor": 5
}
