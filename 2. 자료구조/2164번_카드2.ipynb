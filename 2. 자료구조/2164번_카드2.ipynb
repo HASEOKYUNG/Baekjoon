{
 "cells": [
  {
   "cell_type": "markdown",
   "id": "f3055f85",
   "metadata": {},
   "source": [
    "## 2164번\n",
    "1부터 N까지 나열된 카드를 맨 윗 장을 버리고 다음 장을 맨 밑으로 깔길 반복했을 때 남는 마지막 카드 번호를 구하시오.\n",
    "- 입력)카드의 개수, N이 주어진다.\n",
    "- 출력)마지막 카드 번호를 출력한다.\n",
    "- https://www.acmicpc.net/problem/2164"
   ]
  },
  {
   "cell_type": "markdown",
   "id": "bbd42ebe",
   "metadata": {},
   "source": [
    "### 방법\n",
    "- 수학 규칙을 파악해 문제를 해결해도 되나 문제 제한 조건 하에선 큐를 사용하는 것이 적합하다."
   ]
  },
  {
   "cell_type": "code",
   "execution_count": null,
   "id": "8b2d15f9",
   "metadata": {},
   "outputs": [],
   "source": [
    "# 50928KB,196ms\n",
    "from collections import deque\n",
    "cards = deque(range(1, int(input())+1))\n",
    "\n",
    "while len(cards) > 1:\n",
    "    cards.popleft()\n",
    "    cards.append(cards.popleft())\n",
    "print(cards[-1])"
   ]
  },
  {
   "cell_type": "code",
   "execution_count": null,
   "id": "f3a2922d",
   "metadata": {},
   "outputs": [],
   "source": [
    "# 일반적으로 구현하면 시간초과가 뜬다.\n",
    "import sys\n",
    "input = sys.stdin.readline\n",
    "cards = list(range(1, int(input())+1))\n",
    "\n",
    "while len(cards) != 2:\n",
    "    cards.append(cards[1])\n",
    "    del cards[0:2]\n",
    "print(cards[-1])"
   ]
  },
  {
   "cell_type": "code",
   "execution_count": null,
   "id": "408e094a",
   "metadata": {},
   "outputs": [],
   "source": []
  }
 ],
 "metadata": {
  "kernelspec": {
   "display_name": "Python 3 (ipykernel)",
   "language": "python",
   "name": "python3"
  },
  "language_info": {
   "codemirror_mode": {
    "name": "ipython",
    "version": 3
   },
   "file_extension": ".py",
   "mimetype": "text/x-python",
   "name": "python",
   "nbconvert_exporter": "python",
   "pygments_lexer": "ipython3",
   "version": "3.9.7"
  }
 },
 "nbformat": 4,
 "nbformat_minor": 5
}
