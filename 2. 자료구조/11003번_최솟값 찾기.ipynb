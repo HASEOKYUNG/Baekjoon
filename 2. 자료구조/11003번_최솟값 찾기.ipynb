{
 "cells": [
  {
   "cell_type": "markdown",
   "id": "25c517c2",
   "metadata": {},
   "source": [
    "## `11003번`\n",
    "N개의 수가 주어졌을 때, i(1,2,...N)에 따른 i-L+1:i 구간 내 최솟값을 구하시오.\n",
    "- 입력) 첫 줄에 N과 구간의 길이 L이 주어지고 다음 줄에 N개 수가 띄어쓰기 간격으로 주어진다.\n",
    "- 출력) N개의 구간별 최솟값을 띄어쓰기 간격으로 출력한다.\n",
    "- https://www.acmicpc.net/problem/11003"
   ]
  },
  {
   "cell_type": "markdown",
   "id": "46bf0ba9",
   "metadata": {},
   "source": [
    "### 방법\n",
    "- Deque 구조와 슬라이딩 윈도우를 사용해야 하는 문제이다.\n",
    "- 먼저, Deque에 i번째 (value, index)를 value가 작은 순서대로 담는다.<br>\n",
    "  오른쪽에서부터 덱에 담긴 value와 i번째 value와 비교해가며 i번째 value보다 작은 값만 남겨둔다.<br>\n",
    "  L개의 수 중 j번째 수와 k번째 수 사이의 수가 모두 j, k번째 수보다 커 지운 꼴로 축약해두는 것이다.\n",
    "- 덱의 가장 왼쪽 index가 구간 내에 있다면 해당 value를, 구간을 벗어나면 삭제하고 그 다음 value를 출력한다."
   ]
  },
  {
   "cell_type": "code",
   "execution_count": null,
   "id": "426839cb",
   "metadata": {},
   "outputs": [],
   "source": [
    "# 754580 KB, 7944 ms\n",
    "from collections import deque\n",
    "import sys\n",
    "input = sys.stdin.readline\n",
    "n, l = map(int, input().split())\n",
    "data = list(map(int, input().split()))\n",
    "d = deque()\n",
    "\n",
    "for i in range(n):\n",
    "    # 덱의 오른쪽 원소부터 i번째 value보다 크다면 제거해 i번째 값보다 작거나 같은 값들만 덱에 있도록 한다.\n",
    "    while d and d[-1][0] > data[i]:\n",
    "        d.pop()\n",
    "    d.append((data[i],i))\n",
    "    # 덱의 최솟값이 구간을 벗어났다면 제거한 뒤 덱의 가장 왼쪽 value를 출력한다\n",
    "    if d[0][1] <= i-l:\n",
    "        d.popleft()\n",
    "    print(d[0][0], end=' ')"
   ]
  },
  {
   "cell_type": "code",
   "execution_count": null,
   "id": "cdce1204",
   "metadata": {},
   "outputs": [],
   "source": [
    "# 같은 원리이나 Deque 함수가 아닌 list로 구현한 코드이나 시간초과가 난다.\n",
    "import sys\n",
    "input = sys.stdin.readline\n",
    "n, l = map(int, input().split())\n",
    "data = list(map(int, input().split()))\n",
    "\n",
    "m = []\n",
    "for i in range(n):\n",
    "    while len(m) > 0 and m[-1][1] > data[i]:\n",
    "        del m[-1]\n",
    "    m.append((i, data[i]))\n",
    "    if m[0][0] <= i-l:\n",
    "        del m[0]\n",
    "    print(m[0][1], end=' ')"
   ]
  },
  {
   "cell_type": "code",
   "execution_count": null,
   "id": "84db7633",
   "metadata": {},
   "outputs": [],
   "source": []
  }
 ],
 "metadata": {
  "kernelspec": {
   "display_name": "Python 3 (ipykernel)",
   "language": "python",
   "name": "python3"
  },
  "language_info": {
   "codemirror_mode": {
    "name": "ipython",
    "version": 3
   },
   "file_extension": ".py",
   "mimetype": "text/x-python",
   "name": "python",
   "nbconvert_exporter": "python",
   "pygments_lexer": "ipython3",
   "version": "3.9.7"
  }
 },
 "nbformat": 4,
 "nbformat_minor": 5
}
