{
 "cells": [
  {
   "cell_type": "markdown",
   "id": "2210ea12",
   "metadata": {},
   "source": [
    "## 1874번\n",
    "1부터 N까지의 수를 스택에 삽입(push), 출력 후 삭제(pop)해 오름차순으로 출력하고자 한다. push와 pop 순서를 출력하시오.\n",
    "- 입력)수열의 개수(N)이 입력되고 다음 줄부터 출력해야 하는 숫자가 N개의 줄단위로 입력된다.<br>\n",
    "  $~~~~~~$ 이때 같은 정수는 두 번 이상 나오지 않는다.\n",
    "- 출력)출력해야 하는 수를 pop하기 위해 스택에 수행해야 할 push, pop 순서를 줄단위로 출력한다.<br>\n",
    "  $~~~~~~$ 단, 오름차순 출력이 불가할 경우 \"NO\"라고 출력한다.\n",
    "\n",
    "- https://www.acmicpc.net/problem/1874"
   ]
  },
  {
   "cell_type": "markdown",
   "id": "608c9f28",
   "metadata": {},
   "source": [
    "### 방법\n",
    "- 줄단위로 입력받는 수(k)를 출력하기 위해선 스택에 적어도 1부터 k까지 push되어야 한다.\n",
    "- 1부터 1씩 키워가며 최초의 k까지 스택에 push하고 pop한 뒤 다음 입력받은 k가 스택의 마지막 수보다 크다면 같은 방법으로 push 후 pop, 같다면 pop,<br>작다면 오름차순 출력이 불가함으로 NO를 출력한 뒤 반복문을 종료한다."
   ]
  },
  {
   "cell_type": "code",
   "execution_count": null,
   "id": "d1b9ea64",
   "metadata": {},
   "outputs": [],
   "source": [
    "# 33488KB,112ms\n",
    "import sys\n",
    "input = sys.stdin.readline\n",
    "s, i = [], 1\n",
    "result = []\n",
    "for k in range(int(input())):\n",
    "    n = int(input())\n",
    "    while i <= n:\n",
    "        result.append(\"+\")\n",
    "        s.append(i)\n",
    "        i += 1\n",
    "    if s[-1]==n:\n",
    "        result.append(\"-\")\n",
    "        del s[-1]\n",
    "    else:\n",
    "        print(\"NO\")\n",
    "        break\n",
    "else:\n",
    "    print('\\n'.join(result))"
   ]
  },
  {
   "cell_type": "code",
   "execution_count": null,
   "id": "f7256149",
   "metadata": {},
   "outputs": [],
   "source": []
  }
 ],
 "metadata": {
  "kernelspec": {
   "display_name": "Python 3 (ipykernel)",
   "language": "python",
   "name": "python3"
  },
  "language_info": {
   "codemirror_mode": {
    "name": "ipython",
    "version": 3
   },
   "file_extension": ".py",
   "mimetype": "text/x-python",
   "name": "python",
   "nbconvert_exporter": "python",
   "pygments_lexer": "ipython3",
   "version": "3.9.7"
  }
 },
 "nbformat": 4,
 "nbformat_minor": 5
}
