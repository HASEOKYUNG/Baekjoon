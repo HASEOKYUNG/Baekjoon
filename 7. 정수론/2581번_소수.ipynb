{
 "cells": [
  {
   "cell_type": "markdown",
   "id": "4f65f179",
   "metadata": {},
   "source": [
    "### 2581번\n",
    "- 입력받은 정수 범위 내의 소수 판정을 하면 된다. <br>\n",
    "  약수는 제곱근으로 대칭으로 존재하기에 제곱근까지 약수인 값이 있는지 탐색하고 없으면 소수로 판정하면 된다.\n",
    "- 정수 범위가 1부터 시작이면 1도 소수로 판단하고 저장되기에 1이 있다면 반드시 제거해야 한다.\n",
    "- https://www.acmicpc.net/problem/2581"
   ]
  },
  {
   "cell_type": "code",
   "execution_count": null,
   "id": "0ae3dcc4",
   "metadata": {},
   "outputs": [],
   "source": [
    "factor = list()\n",
    "for n in range(int(input()), int(input())+1):\n",
    "    for x in range(2, int(n**0.5)+1):\n",
    "        if n % x == 0:\n",
    "            break\n",
    "    else:\n",
    "        factor.append(n)\n",
    "if 1 in factor:\n",
    "    factor.remove(1)\n",
    "print(-1 if len(factor) == 0 else f'{sum(factor)}\\n{min(factor)}')"
   ]
  },
  {
   "cell_type": "code",
   "execution_count": null,
   "id": "844bd652",
   "metadata": {},
   "outputs": [],
   "source": []
  }
 ],
 "metadata": {
  "kernelspec": {
   "display_name": "Python 3 (ipykernel)",
   "language": "python",
   "name": "python3"
  },
  "language_info": {
   "codemirror_mode": {
    "name": "ipython",
    "version": 3
   },
   "file_extension": ".py",
   "mimetype": "text/x-python",
   "name": "python",
   "nbconvert_exporter": "python",
   "pygments_lexer": "ipython3",
   "version": "3.9.12"
  }
 },
 "nbformat": 4,
 "nbformat_minor": 5
}
