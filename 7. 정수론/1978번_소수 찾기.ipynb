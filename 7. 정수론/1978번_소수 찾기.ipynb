{
 "cells": [
  {
   "cell_type": "markdown",
   "id": "ccf9cfec",
   "metadata": {},
   "source": [
    "### 1978번\n",
    "- 입력받은 N개의 정수 중 소수의 개수를 출력하는 문제이다.\n",
    "- 소수란 1과 자기 자신 외의 약수를 갖지 않는 수를 의미한다.\n",
    "- https://www.acmicpc.net/problem/1978"
   ]
  },
  {
   "cell_type": "code",
   "execution_count": null,
   "id": "200c2c70",
   "metadata": {},
   "outputs": [],
   "source": [
    "_, nums = input(), [i for i in map(int, input().split()) if i >= 2]\n",
    "\n",
    "prime = 0\n",
    "for n in nums:\n",
    "    # 2부터 n-1까지 값 중 약수인 것이 없는지 확인한다.\n",
    "    for x in range(2, n):\n",
    "        if n % x == 0:\n",
    "            break\n",
    "    else:\n",
    "        prime += 1\n",
    "print(prime)"
   ]
  },
  {
   "cell_type": "code",
   "execution_count": null,
   "id": "d2cc887a",
   "metadata": {},
   "outputs": [],
   "source": []
  }
 ],
 "metadata": {
  "kernelspec": {
   "display_name": "Python 3 (ipykernel)",
   "language": "python",
   "name": "python3"
  },
  "language_info": {
   "codemirror_mode": {
    "name": "ipython",
    "version": 3
   },
   "file_extension": ".py",
   "mimetype": "text/x-python",
   "name": "python",
   "nbconvert_exporter": "python",
   "pygments_lexer": "ipython3",
   "version": "3.9.12"
  }
 },
 "nbformat": 4,
 "nbformat_minor": 5
}
