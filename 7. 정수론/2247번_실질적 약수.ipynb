{
 "cells": [
  {
   "cell_type": "markdown",
   "id": "0115008e",
   "metadata": {},
   "source": [
    "### `2247번`\n",
    "- 1부터 입력받은 n까지 정수의 1과 자기자신 외 약수를 모두 합한 CSOD를 구하는 문제이다.\n",
    "- 방법1)문제 정의에 맞게 실질적 약수 합을 구하는 SOD 함수를 구현한 뒤 재귀함수로 CSOD를 구한다.<br>\n",
    "  방법2)소수의 SOD 함수값은 0임으로 소수가 아닌 정수에만 SOD를 적용하고 합을 구한다.<br>\n",
    "  방법3)2부터 n//2까지 정수의 배수를 찾고 몫-1과 나눈 수를 곱해 모두 더한다.<br>\n",
    "- 별 방법을 다 써도 시간초과 오류가 해결되지 않는다. 추후 도전해보겠다.\n",
    "- https://www.acmicpc.net/problem/2247"
   ]
  },
  {
   "cell_type": "code",
   "execution_count": null,
   "id": "f8e076ad",
   "metadata": {},
   "outputs": [],
   "source": [
    "# 정의에 맞게 SOD와 CSOD를 구현하면 시간초과 오류가 발생한다.\n",
    "def SOD(n):\n",
    "    result = 0\n",
    "    for x in range(2, int(n**0.5)+1):\n",
    "        if n%x == 0:\n",
    "            result += sum(set([x, n//x]))\n",
    "    return result\n",
    "\n",
    "def CSOD(n):\n",
    "    if n == 2:\n",
    "        return 0\n",
    "    else:\n",
    "        return SOD(n) + CSOD(n-1)\n",
    "    \n",
    "print(CSOD(int(input()))%1000000)"
   ]
  },
  {
   "cell_type": "code",
   "execution_count": null,
   "id": "fa8b63b5",
   "metadata": {},
   "outputs": [],
   "source": [
    "# 소수인 n에 대해 SOD 함수값은 항상 0으로 소수가 아닌 n에 대해서만 SOD 함수를 적용하면 된다.\n",
    "unprime = []\n",
    "for n in range(4, int(input())+1):\n",
    "    for x in range(2, n):\n",
    "        if n % x == 0:\n",
    "            unprime.append(n)\n",
    "            break\n",
    "        \n",
    "def SOD(n):\n",
    "    result = 0\n",
    "    for x in range(2, int(n**0.5)+1):\n",
    "        if n%x == 0:\n",
    "            result += sum(set([x, n//x]))\n",
    "    return result\n",
    "\n",
    "def CSOD(lst):\n",
    "    result = 0\n",
    "    for i in lst:\n",
    "        result += SOD(i)\n",
    "    return result\n",
    "    \n",
    "print(CSOD(unprime)%1000000)"
   ]
  },
  {
   "cell_type": "code",
   "execution_count": null,
   "id": "63412028",
   "metadata": {},
   "outputs": [],
   "source": [
    "# n까지 정수 중 배수 개수가 1이 아니라면 모두 특정 숫자의 약수이다.\n",
    "def CSOD(n):\n",
    "    result = 0\n",
    "    for i in range(2, n//2+1):\n",
    "        result += i*(n//i-1)\n",
    "    return result\n",
    "\n",
    "print(CSOD(int(input()))%1000000)"
   ]
  },
  {
   "cell_type": "code",
   "execution_count": null,
   "id": "d8b60e73",
   "metadata": {},
   "outputs": [],
   "source": []
  }
 ],
 "metadata": {
  "kernelspec": {
   "display_name": "Python 3 (ipykernel)",
   "language": "python",
   "name": "python3"
  },
  "language_info": {
   "codemirror_mode": {
    "name": "ipython",
    "version": 3
   },
   "file_extension": ".py",
   "mimetype": "text/x-python",
   "name": "python",
   "nbconvert_exporter": "python",
   "pygments_lexer": "ipython3",
   "version": "3.9.12"
  }
 },
 "nbformat": 4,
 "nbformat_minor": 5
}
