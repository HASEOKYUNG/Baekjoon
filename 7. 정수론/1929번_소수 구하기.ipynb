{
 "cells": [
  {
   "cell_type": "markdown",
   "id": "856d1100",
   "metadata": {},
   "source": [
    "## 1929번\n",
    "범위 내 정수에 대해 소수판정한 뒤 소수이면 출력하라.\n",
    "- 입력) 범위의 최솟값과 최댓값이 입력된다.\n",
    "- 출력) 범위 내 소수를 줄단위로 출력한다.\n",
    "- https://www.acmicpc.net/problem/1929"
   ]
  },
  {
   "cell_type": "markdown",
   "id": "d270b239",
   "metadata": {},
   "source": [
    "## 방법1\n",
    "- 에라토스테네스의 체 원리를 적용해 해결한다."
   ]
  },
  {
   "cell_type": "code",
   "execution_count": null,
   "id": "a51142e8",
   "metadata": {},
   "outputs": [],
   "source": [
    "# 77764 KB, 400 ms\n",
    "a, b = map(int, input().split())\n",
    "A = [0]*2 + [i for i in range(2, b+1)]\n",
    "\n",
    "for i in range(2, int(b**0.5)+1):\n",
    "    if A[i]==0:\n",
    "        continue\n",
    "    for j in range(i+i, b+1, i):\n",
    "        A[j]=0\n",
    "    \n",
    "for i in range(a, b+1):\n",
    "    if A[i] != 0:\n",
    "        print(A[i])"
   ]
  },
  {
   "cell_type": "markdown",
   "id": "3ab72699",
   "metadata": {},
   "source": [
    "## 방법2\n",
    "- 범위 내 정수별로 소수 판정을 한다. 소수 판정 시 약수는 제곱근을 기준으로 좌우대칭되게 존재하기에 해당 숫자의 제곱근까지만 탐색하도록 한다.\n",
    "- 이때, 1은 소수가 아님을 지정해야 한다."
   ]
  },
  {
   "cell_type": "code",
   "execution_count": null,
   "id": "fb88b157",
   "metadata": {},
   "outputs": [],
   "source": [
    "# 31256 KB, 5136 ms\n",
    "a, b = map(int, input().split())\n",
    "for n in range(a, b+1):\n",
    "    for x in range(2, int(n**0.5)+1):\n",
    "        if n%x==0:\n",
    "            break\n",
    "    else:\n",
    "        # 1은 소수가 아님으로 출력하지 않는다.\n",
    "        if n != 1:\n",
    "            print(n)"
   ]
  },
  {
   "cell_type": "code",
   "execution_count": null,
   "id": "0e05094d",
   "metadata": {},
   "outputs": [],
   "source": []
  }
 ],
 "metadata": {
  "kernelspec": {
   "display_name": "Python 3 (ipykernel)",
   "language": "python",
   "name": "python3"
  },
  "language_info": {
   "codemirror_mode": {
    "name": "ipython",
    "version": 3
   },
   "file_extension": ".py",
   "mimetype": "text/x-python",
   "name": "python",
   "nbconvert_exporter": "python",
   "pygments_lexer": "ipython3",
   "version": "3.9.12"
  }
 },
 "nbformat": 4,
 "nbformat_minor": 5
}
