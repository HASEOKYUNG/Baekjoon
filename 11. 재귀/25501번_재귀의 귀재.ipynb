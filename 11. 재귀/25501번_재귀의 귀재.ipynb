{
 "cells": [
  {
   "cell_type": "markdown",
   "id": "4513be60",
   "metadata": {},
   "source": [
    "## 25501번\n",
    "두 글자가 같은지 확인하는 recursion함수를 회문인지 판별하는 동안 호출한 횟수를 구하여라.<br>\n",
    "(회문이란 순서대로 읽어도 거꾸로 읽어도 같은 문자열을 의미한다. 예를 들어, \"수박이박수\", \"토마토\" 같은 문자열이다.)\n",
    "- 입력)첫 줄에 테스트 케이스 수가 주어지고 다음 줄부터 회문인지 판별할 문자열이 입력된다.\n",
    "- 출력)회문임을 의미하는 1 또는 회문이 아님을 의미하는 0과 recursion함수 호출횟수를 출력한다.\n",
    "- https://www.acmicpc.net/problem/25501"
   ]
  },
  {
   "attachments": {
    "image.png": {
     "image/png": "[encoded data removed]"
    }
   },
   "cell_type": "markdown",
   "id": "c8de8d80",
   "metadata": {},
   "source": [
    "### 방법1\n",
    "- 힌트로 주어진 pseudocode를 바탕으로 recursion, isPalindrome 함수를 설명하자면,<br>\n",
    "  recursion함수는 문자열과 회문임을 알아보기 위해 0부터 1씩 커진 index, 맨끝에서 1씩 줄어든 index를 입력받는다.<br>\n",
    "  $\\bullet$ index이 같거나 교차가 이루어졌는데 recursion함수를 호출했다면 이전의 문자열간 비교가 회문 조건을 만족했기에 회문으로 판별한다.<br>\n",
    "  $\\bullet$ 주어진 index의 문자열간 비교가 필요할 때 비교한 결과 두 문자열이 같으면 `재귀`적으로 다음 순서의 index 문자열을 비교하도록 recursion을 호출하고 아니면 회문이 아님을 출력한다.<br><br>\n",
    "  isPalindrome함수는 0부터 맨끝 index를 전달한 recursion함수로 회문 여부를 반환받게 된다.\n",
    "  ![image.png](attachment:image.png)\n",
    "- pseudocode를 바탕으로 recursion함수 호출수가 같이 출력되도록 구현하면 된다.\n",
    "- recursion함수의 호출횟수를 의미하는 매개변수 n을 전달하고 <br>\n",
    "  첫 번째 조건에 True이거나 이후의 조건문에 True이면 회문 판별이 끝났음으로 n을 출력하고 아닌 경우 n을 1 더해 전달하면 된다."
   ]
  },
  {
   "cell_type": "code",
   "execution_count": null,
   "id": "021db7ec",
   "metadata": {},
   "outputs": [],
   "source": [
    "# 31316 KB, 1132 ms\n",
    "def recursion(s, lindex, rindex, n=1):\n",
    "    if lindex >= rindex:\n",
    "        return f'1 {n}'\n",
    "    else:\n",
    "        if s[lindex] != s[rindex]:\n",
    "            return f'0 {n}'\n",
    "        else:\n",
    "            return recursion(s, lindex+1, rindex-1, n+1)\n",
    "        \n",
    "def isPalindrome(s):\n",
    "    return recursion(s, 0, len(s)-1)\n",
    "\n",
    "for i in range(int(input())):\n",
    "    print(isPalindrome(input()))"
   ]
  },
  {
   "cell_type": "markdown",
   "id": "c6697424",
   "metadata": {},
   "source": [
    "### 방법2\n",
    "- 방법1은 recursion함수의 모든 조건에 n이 관여하기에 속도가 느리다.\n",
    "- global로 사용자 정의 함수 내에서 전역변수를 사용하도록 구현한다."
   ]
  },
  {
   "cell_type": "code",
   "execution_count": null,
   "id": "a9289781",
   "metadata": {},
   "outputs": [],
   "source": [
    "# 31316 KB, 544 ms\n",
    "count=0\n",
    "def recursion(s, l, r):\n",
    "    global count\n",
    "    count+=1\n",
    "    if l >= r: return 1\n",
    "    elif s[l] != s[r]: return 0\n",
    "    else: return recursion(s, l+1, r-1)\n",
    "\n",
    "def isPalindrome(s):\n",
    "    return recursion(s, 0, len(s)-1)\n",
    "\n",
    "for i in range(int(input())):\n",
    "    print(isPalindrome(input()), count)\n",
    "    count=0"
   ]
  },
  {
   "cell_type": "code",
   "execution_count": null,
   "id": "f441472a",
   "metadata": {},
   "outputs": [],
   "source": []
  }
 ],
 "metadata": {
  "kernelspec": {
   "display_name": "Python 3 (ipykernel)",
   "language": "python",
   "name": "python3"
  },
  "language_info": {
   "codemirror_mode": {
    "name": "ipython",
    "version": 3
   },
   "file_extension": ".py",
   "mimetype": "text/x-python",
   "name": "python",
   "nbconvert_exporter": "python",
   "pygments_lexer": "ipython3",
   "version": "3.9.7"
  }
 },
 "nbformat": 4,
 "nbformat_minor": 5
}
