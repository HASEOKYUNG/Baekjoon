{
 "cells": [
  {
   "cell_type": "markdown",
   "id": "96655819",
   "metadata": {},
   "source": [
    "## 10250번\n",
    "손님들은 1호실 다음으로 2호실, 3호실 ...을 선호하고 되도록 아랫층에 배정받길 선호한다. <br>\n",
    "손님들의 선호 경향을 바탕으로 방배정을 할 때 N번째 손님의 방번호를 구하시오. \n",
    "- 입력) 방번호를 구하는 문제 개수가 주어지고 다음 줄부터 호텔의 층 수, 각 층의 방 수, 몇 번째 손님인지 주어진다.\n",
    "- 출력) 방번호를 출력한다.\n",
    "- https://www.acmicpc.net/problem/10250"
   ]
  },
  {
   "cell_type": "markdown",
   "id": "2bfafcc5",
   "metadata": {},
   "source": [
    "### 방법\n",
    "- 방문 순서대로 1층부터 마지막 층까지의 1호실을 배정한 후 같은 방식으로 전층의 2호실, 3호실을 배정하면 된다.\n",
    "- 수학적으로 표현하면 손님의 방문순서 N, 호텔 층수 H에 대해 손님이 묵는 층은 N%H이고 호수는 N//H+1(올림)이다.<br>\n",
    "  이때, N이 H의 배수라 꼭대기 층에 머물 때 N%H가 아닌 H를 묵는 층수로 출력해야 하고 올림한 N//H+1이 아닌 N//H를 호수로 해야 한다."
   ]
  },
  {
   "cell_type": "code",
   "execution_count": null,
   "id": "7813b4dd",
   "metadata": {},
   "outputs": [],
   "source": [
    "# 31256 KB, 44 ms\n",
    "import sys\n",
    "\n",
    "for i in range(int(sys.stdin.readline())):\n",
    "    H, _, N = map(int, sys.stdin.readline().split())\n",
    "    if N%H == 0:\n",
    "        print(H*100+N//H)\n",
    "    else:\n",
    "        print(N%H*100+N//H+1)"
   ]
  },
  {
   "cell_type": "code",
   "execution_count": null,
   "id": "d869af8a",
   "metadata": {},
   "outputs": [],
   "source": [
    "# 31256 KB, 44 ms\n",
    "import sys\n",
    "\n",
    "for i in range(int(sys.stdin.readline())):\n",
    "    H, _, N = map(int, sys.stdin.readline().split())\n",
    "    f, n = N%H, N//H\n",
    "    print({0:H*100+n}.get(f, f*100+n+1))"
   ]
  },
  {
   "cell_type": "code",
   "execution_count": null,
   "id": "abe7b1d9",
   "metadata": {},
   "outputs": [],
   "source": [
    "# 33376 KB, 44 ms\n",
    "# 호수를 구할 때 올림함수를 사용하였다. 함수를 호출해 메모리 사용량이 많다.\n",
    "import sys\n",
    "from math import ceil\n",
    "\n",
    "for i in range(int(sys.stdin.readline())):\n",
    "    H, _, N = map(int, sys.stdin.readline().split())\n",
    "    print({0:H}.get(N%H, N%H)*100+ceil(N/H))"
   ]
  },
  {
   "cell_type": "code",
   "execution_count": null,
   "id": "cba1b31b",
   "metadata": {},
   "outputs": [],
   "source": []
  }
 ],
 "metadata": {
  "kernelspec": {
   "display_name": "Python 3 (ipykernel)",
   "language": "python",
   "name": "python3"
  },
  "language_info": {
   "codemirror_mode": {
    "name": "ipython",
    "version": 3
   },
   "file_extension": ".py",
   "mimetype": "text/x-python",
   "name": "python",
   "nbconvert_exporter": "python",
   "pygments_lexer": "ipython3",
   "version": "3.9.7"
  }
 },
 "nbformat": 4,
 "nbformat_minor": 5
}
