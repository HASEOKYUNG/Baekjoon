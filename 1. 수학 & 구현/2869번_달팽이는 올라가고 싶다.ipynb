{
 "cells": [
  {
   "cell_type": "markdown",
   "id": "70b6ff7c",
   "metadata": {},
   "source": [
    "## 2869번\n",
    "낮엔 A미터 올라가고 밤엔 B미터 내려오는 달팽이가 V미터 정상에 도달하는 데 걸리는 일수를 구하시오.\n",
    "- 입력)A, B, V가 띄어쓰기 간격으로 입력된다.($B < A$)\n",
    "- 출력)V미터에 도달하는 데 걸리는 일수를 출력한다.\n",
    "- https://www.acmicpc.net/problem/2869"
   ]
  },
  {
   "cell_type": "markdown",
   "id": "ab04f268",
   "metadata": {},
   "source": [
    "### 방법\n",
    "- 최종 일수 전날에 더 올라가야 할 거리는 V-A보다 작다. \n",
    "- V-A를 하루에 올라가는 미터, A-B로 나눈 값을 올림하면 최종 일수 - 1이 된다.\n",
    "- 문제 난이도는 쉽지만 런타임 에러와 시간초과 에러가 발생하기 쉬워 one-line if를 사용한다."
   ]
  },
  {
   "cell_type": "code",
   "execution_count": null,
   "id": "66dd3f44",
   "metadata": {
    "scrolled": true
   },
   "outputs": [],
   "source": [
    "# 31256 KB, 40 ms\n",
    "a, b, v = map(int, input().split())\n",
    "d = (v-a)/(a-b)\n",
    "print(int(d)+1 if d==int(d) else int(d)+2)"
   ]
  },
  {
   "cell_type": "code",
   "execution_count": null,
   "id": "ced5e74f",
   "metadata": {},
   "outputs": [],
   "source": []
  }
 ],
 "metadata": {
  "kernelspec": {
   "display_name": "Python 3 (ipykernel)",
   "language": "python",
   "name": "python3"
  },
  "language_info": {
   "codemirror_mode": {
    "name": "ipython",
    "version": 3
   },
   "file_extension": ".py",
   "mimetype": "text/x-python",
   "name": "python",
   "nbconvert_exporter": "python",
   "pygments_lexer": "ipython3",
   "version": "3.9.12"
  }
 },
 "nbformat": 4,
 "nbformat_minor": 5
}
