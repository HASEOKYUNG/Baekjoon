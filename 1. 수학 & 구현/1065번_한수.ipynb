{
 "cells": [
  {
   "cell_type": "markdown",
   "id": "1a441528",
   "metadata": {},
   "source": [
    "## 1065번\n",
    "한수란 각 자리값이 순서대로 등차수열을 이루는 자연수를 의미한다. N 이하의 한수 개수를 구하여라.\n",
    "- 입력)N($1 \\le N \\le 1000$)이 주어진다.\n",
    "- 출력)N 이하의 한수 개수를 출력한다.\n",
    "- https://www.acmicpc.net/problem/1065"
   ]
  },
  {
   "cell_type": "markdown",
   "id": "7b6f5b42",
   "metadata": {},
   "source": [
    "### 방법\n",
    "- 수열을 이루기 위해선 세 자리 정수가 되어야 함에 1부터 99까지 모든 수는 한수이다. 또 1000은 한수가 될 수 없다.<br>\n",
    "  즉, 세 자리 정수의 한수 판별만 구현하면 된다.\n",
    "- 세 자리 정수를 백의 자리, 십의 자리, 일의 자리로 분리하고 크기를 등차수열 공식에 부합하는지를 보아 한수임을 판별하면 된다."
   ]
  },
  {
   "cell_type": "code",
   "execution_count": null,
   "id": "30d7f68a",
   "metadata": {
    "scrolled": true
   },
   "outputs": [],
   "source": [
    "# 문자열 변환을 사용해 각 자리수로 분리하고 수식을 적용한 코드가 더 메모리 효율적이고 속도가 빨랐다.(30616 KB, 40 ms)\n",
    "n = int(input())\n",
    "if n < 100:\n",
    "    print(n)\n",
    "else:\n",
    "    k = 99\n",
    "    for x in range(100, n+1):\n",
    "        sx = list(map(int, str(x)))\n",
    "        if len(set(map(lambda x: x[0]-x[1], zip(sx, sx[1:])))) == 1:\n",
    "            k += 1\n",
    "    print(k)"
   ]
  },
  {
   "cell_type": "code",
   "execution_count": null,
   "id": "42f78b12",
   "metadata": {},
   "outputs": [],
   "source": [
    "# 31256 KB, 48 ms\n",
    "n = int(input())\n",
    "if n < 100:\n",
    "    print(n)\n",
    "else:\n",
    "    k = 99\n",
    "    for x in range(100, n+1):\n",
    "        if (x//100 + x%10) == (x%100//10)*2:\n",
    "            k += 1\n",
    "    print(k)"
   ]
  },
  {
   "cell_type": "code",
   "execution_count": null,
   "id": "4bc641de",
   "metadata": {},
   "outputs": [],
   "source": []
  }
 ],
 "metadata": {
  "kernelspec": {
   "display_name": "Python 3 (ipykernel)",
   "language": "python",
   "name": "python3"
  },
  "language_info": {
   "codemirror_mode": {
    "name": "ipython",
    "version": 3
   },
   "file_extension": ".py",
   "mimetype": "text/x-python",
   "name": "python",
   "nbconvert_exporter": "python",
   "pygments_lexer": "ipython3",
   "version": "3.9.7"
  }
 },
 "nbformat": 4,
 "nbformat_minor": 5
}
