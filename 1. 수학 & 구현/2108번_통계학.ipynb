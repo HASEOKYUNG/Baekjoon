{
 "cells": [
  {
   "cell_type": "markdown",
   "id": "2898e481",
   "metadata": {},
   "source": [
    "## `2108번`\n",
    "홀수개 데이터의 산술평균, 중앙값, 최빈값, 범위를 구하여라.\n",
    "- 입력)첫 줄에 데이터수가 주어지고 줄별로 데이터가 입력된다.\n",
    "- 출력)산술평균, 중앙값, 최빈값, 범위를 줄별로 출력한다.\n",
    "- https://www.acmicpc.net/problem/2108"
   ]
  },
  {
   "cell_type": "markdown",
   "id": "b4dd5b32",
   "metadata": {},
   "source": [
    "### 방법\n",
    "- 입력받은 홀수개 데이터의 산술평균, 중앙값, 최빈값, 범위를 구하는 문제로 최빈값을 제외하곤 모두 쉽게 구할 수 있다.\n",
    "- 문제의 최빈값은<br>\n",
    "  방법1)빈도 딕셔너리를 작성 후 빈도 최댓값을 구한 뒤 해당 빈도수를 갖는 데이터가 1개면 해당 값을, 아니면 두번째로 작은 값을 출력<br>\n",
    "  방법2)데이터의 유일한 값의 빈도를 구하며 빈도 최댓값을 갱신해 최빈값 리스트를 작성한다. 이후 리스트 원소수가 1개면 해당 값을, 아니면 두번째로 작은 값을 출력<br>\n",
    "  하도록 구했으나 모두 시간초과가 난다."
   ]
  },
  {
   "cell_type": "code",
   "execution_count": null,
   "id": "29196970",
   "metadata": {},
   "outputs": [],
   "source": [
    "import sys\n",
    "n = int(sys.stdin.readline())\n",
    "data = [int(sys.stdin.readline()) for i in range(n)]\n",
    "print(round(sum(data)/n))\n",
    "print(sorted(data)[n//2])\n",
    "count = {i:data.count(i) for i in set(data)}\n",
    "m = max(count.values())\n",
    "mode = sorted([k for k, v in count.items() if v==m])\n",
    "print(mode[0] if len(mode)==1 else mode[1])\n",
    "print(max(data)-min(data))"
   ]
  },
  {
   "cell_type": "code",
   "execution_count": null,
   "id": "371ee2cb",
   "metadata": {},
   "outputs": [],
   "source": [
    "import sys\n",
    "n = int(sys.stdin.readline())\n",
    "data = [int(sys.stdin.readline()) for i in range(n)]\n",
    "print(round(sum(data)/n))\n",
    "print(sorted(data)[n//2])\n",
    "m = 0\n",
    "for i in set(data):\n",
    "    if m < data.count(i):\n",
    "        m, mode = data.count(i), [i]\n",
    "    elif m == data.count(i):\n",
    "        mode.append(i)\n",
    "print(mode[0] if len(mode)==1 else sorted(mode)[1])\n",
    "print(max(data)-min(data))"
   ]
  },
  {
   "cell_type": "code",
   "execution_count": null,
   "id": "64f616ea",
   "metadata": {},
   "outputs": [],
   "source": []
  }
 ],
 "metadata": {
  "kernelspec": {
   "display_name": "Python 3 (ipykernel)",
   "language": "python",
   "name": "python3"
  },
  "language_info": {
   "codemirror_mode": {
    "name": "ipython",
    "version": 3
   },
   "file_extension": ".py",
   "mimetype": "text/x-python",
   "name": "python",
   "nbconvert_exporter": "python",
   "pygments_lexer": "ipython3",
   "version": "3.9.7"
  }
 },
 "nbformat": 4,
 "nbformat_minor": 5
}
