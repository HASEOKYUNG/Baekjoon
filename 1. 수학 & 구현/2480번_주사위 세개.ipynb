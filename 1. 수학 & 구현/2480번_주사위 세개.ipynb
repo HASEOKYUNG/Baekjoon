{
 "cells": [
  {
   "cell_type": "markdown",
   "id": "b8e8ec80",
   "metadata": {},
   "source": [
    "## 2480번\n",
    "주사위 3개를 던질 때 같은 눈이 3개면 10,000원+(같은 눈)×1,000원, 같은 눈이 2개면 1,000원+(같은 눈)×100원, <br>\n",
    "모두 다른 눈이면 (그 중 가장 큰 눈)×100원을 상금으로 한다. 상금을 출력하라.\n",
    "- 입력) 세 주사위 눈이 입력된다.\n",
    "- 출력) 산출한 상금을 출력한다.\n",
    "- https://www.acmicpc.net/problem/2480"
   ]
  },
  {
   "cell_type": "markdown",
   "id": "4751f185",
   "metadata": {},
   "source": [
    "### 방법1\n",
    "- 같은 눈이 2개거나 3개이면 세 주사위 눈을 정렬했을 때 `중앙값`이 반드시 상금을 구할 때 사용되는 주사위 눈이다.<br>\n",
    "  또 같은 눈이 2개일 때가 같은 눈이 3개일 때보다 한 단위가 작다는 차이만 존재한다.\n",
    "- 같은 눈이 없는지 있는지를 판단한 뒤 같은 눈이 있을 경우 같은 눈 개수를 한 번 더 따져 상금을 구하면 된다."
   ]
  },
  {
   "cell_type": "code",
   "execution_count": null,
   "id": "f231f298",
   "metadata": {},
   "outputs": [],
   "source": [
    "# 31256 KB, 40 ms\n",
    "dice = list(map(int, input().split()))\n",
    "\n",
    "if len(set(dice)) == 3:\n",
    "    print(100*max(dice))\n",
    "else:\n",
    "    print((1000+sorted(dice)[1]*100)*[10,1][len(set(dice))-1])"
   ]
  },
  {
   "cell_type": "code",
   "execution_count": null,
   "id": "d2e0bb68",
   "metadata": {},
   "outputs": [],
   "source": [
    "# Short coding\n",
    "dice = list(map(int, input().split()))\n",
    "print({1:10000+sorted(dice)[1]*1000, 2:1000+sorted(dice)[1]*100, 3: 100*max(dice)}.get(len(set(dice))))"
   ]
  },
  {
   "cell_type": "markdown",
   "id": "523f4aca",
   "metadata": {},
   "source": [
    "### 방법2\n",
    "- 방법1과 원리는 같으나 주사위 눈 별로 변수에 담아 비교를 통해 상금을 구한다.\n",
    "- 조건문과 정렬을 간소화한 코드이다."
   ]
  },
  {
   "cell_type": "code",
   "execution_count": null,
   "id": "1d3e5d2b",
   "metadata": {
    "scrolled": true
   },
   "outputs": [],
   "source": [
    "# 31256 KB, 40 ms\n",
    "a, b, c = sorted(map(int, input().split()))\n",
    "print([10+b,c][a<b<c]*10**[2,3][a==b==c])"
   ]
  },
  {
   "cell_type": "code",
   "execution_count": null,
   "id": "b9215bb2",
   "metadata": {},
   "outputs": [],
   "source": []
  }
 ],
 "metadata": {
  "kernelspec": {
   "display_name": "Python 3 (ipykernel)",
   "language": "python",
   "name": "python3"
  },
  "language_info": {
   "codemirror_mode": {
    "name": "ipython",
    "version": 3
   },
   "file_extension": ".py",
   "mimetype": "text/x-python",
   "name": "python",
   "nbconvert_exporter": "python",
   "pygments_lexer": "ipython3",
   "version": "3.9.12"
  }
 },
 "nbformat": 4,
 "nbformat_minor": 5
}
