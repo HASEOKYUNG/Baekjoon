{
 "cells": [
  {
   "cell_type": "markdown",
   "id": "1a19424b",
   "metadata": {},
   "source": [
    "## 3009번\n",
    "세 점이 주어졌을 때, 축에 평행한 직사각형을 만들기 위해서 필요한 나머지 점의 좌표를 구하시오.\n",
    "- 입력)세 줄에 걸쳐 x, y은 띄어쓰기 간격으로 입력된다.\n",
    "- 출력)남은 점의 좌표를 띄어쓰기 간격으로 출력한다.\n",
    "- https://www.acmicpc.net/problem/3009"
   ]
  },
  {
   "cell_type": "markdown",
   "id": "b8de6e16",
   "metadata": {},
   "source": [
    "### 방법\n",
    "- 직사각형을 이루는 네 점의 좌표는 $(x_1, y_1), (x_1, y_2), (x_2, y_1), (x_2, y_2)$이다.\n",
    "- 입력받은 세 점 중 유일한 x값, 유일한 y값을 남은 점의 좌표로 구하면 된다.\n",
    "- 유일한 값을 찾기 위해 list에 append/remove하는 과정을 거친다."
   ]
  },
  {
   "cell_type": "code",
   "execution_count": null,
   "id": "b94ee24f",
   "metadata": {},
   "outputs": [],
   "source": [
    "# 31256 KB, 44 ms\n",
    "X, Y = list(), list()\n",
    "for i in range(3):\n",
    "    x, y = map(int, input().split())\n",
    "    X.remove(x) if x in X else X.append(x)\n",
    "    Y.remove(y) if y in Y else Y.append(y)\n",
    "    \n",
    "print(f'{X[0]} {Y[0]}')"
   ]
  },
  {
   "cell_type": "code",
   "execution_count": null,
   "id": "1d65a069",
   "metadata": {},
   "outputs": [],
   "source": []
  }
 ],
 "metadata": {
  "kernelspec": {
   "display_name": "Python 3 (ipykernel)",
   "language": "python",
   "name": "python3"
  },
  "language_info": {
   "codemirror_mode": {
    "name": "ipython",
    "version": 3
   },
   "file_extension": ".py",
   "mimetype": "text/x-python",
   "name": "python",
   "nbconvert_exporter": "python",
   "pygments_lexer": "ipython3",
   "version": "3.9.12"
  }
 },
 "nbformat": 4,
 "nbformat_minor": 5
}
