{
 "cells": [
  {
   "cell_type": "markdown",
   "id": "ab04f268",
   "metadata": {},
   "source": [
    "### 2869번\n",
    "- v만큼 도달하는데 a만큼 올라갔을 때 정상이 아니면 b만큼 내려오길 반복하는 횟수를 구하는 문제이다.\n",
    "- 구해야 하는 답 N 직전에, 남은 거리가 a보다 작을 때를 고려해 v-a를 내려간 거리를 고려한 올라간 거리(a-b)로 나눈다.<br>\n",
    "  이때, 올림해야 하기에 one-line if를 사용해 처리한다.\n",
    "- 문제 난이도는 쉽지만 런타임 에러와 시간초과 에러가 발생하기 쉬운 문제이다.\n",
    "- https://www.acmicpc.net/problem/2869"
   ]
  },
  {
   "cell_type": "code",
   "execution_count": null,
   "id": "66dd3f44",
   "metadata": {
    "scrolled": true
   },
   "outputs": [],
   "source": [
    "a, b, v = map(int, input().split())\n",
    "d = (v-a)/(a-b)\n",
    "print(int(d)+1 if d==int(d) else int(d)+2)"
   ]
  },
  {
   "cell_type": "code",
   "execution_count": null,
   "id": "ced5e74f",
   "metadata": {},
   "outputs": [],
   "source": []
  }
 ],
 "metadata": {
  "kernelspec": {
   "display_name": "Python 3 (ipykernel)",
   "language": "python",
   "name": "python3"
  },
  "language_info": {
   "codemirror_mode": {
    "name": "ipython",
    "version": 3
   },
   "file_extension": ".py",
   "mimetype": "text/x-python",
   "name": "python",
   "nbconvert_exporter": "python",
   "pygments_lexer": "ipython3",
   "version": "3.9.7"
  }
 },
 "nbformat": 4,
 "nbformat_minor": 5
}
