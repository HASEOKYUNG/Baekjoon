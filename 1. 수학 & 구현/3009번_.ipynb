{
 "cells": [
  {
   "cell_type": "markdown",
   "id": "1a19424b",
   "metadata": {},
   "source": [
    "### 3009번\n",
    "- 세 점의 좌표를 입력받고 x 중 유일한 값, y 중 유일한 값을 남은 직사각형의 좌표로 출력하면 된다.\n",
    "- 유일한 값을 찾기 위해 list에 append/remove하는 과정을 거친다.\n",
    "- https://www.acmicpc.net/problem/3009"
   ]
  },
  {
   "cell_type": "code",
   "execution_count": null,
   "id": "b94ee24f",
   "metadata": {},
   "outputs": [],
   "source": [
    "X, Y = list(), list()\n",
    "for i in range(3):\n",
    "    x, y = map(int, input().split())\n",
    "    X.remove(x) if x in X else X.append(x)\n",
    "    Y.remove(y) if y in Y else Y.append(y)\n",
    "    \n",
    "print(f'{X[0]} {Y[0]}')"
   ]
  },
  {
   "cell_type": "code",
   "execution_count": null,
   "id": "0f55974f",
   "metadata": {},
   "outputs": [],
   "source": []
  }
 ],
 "metadata": {
  "kernelspec": {
   "display_name": "Python 3 (ipykernel)",
   "language": "python",
   "name": "python3"
  },
  "language_info": {
   "codemirror_mode": {
    "name": "ipython",
    "version": 3
   },
   "file_extension": ".py",
   "mimetype": "text/x-python",
   "name": "python",
   "nbconvert_exporter": "python",
   "pygments_lexer": "ipython3",
   "version": "3.9.7"
  }
 },
 "nbformat": 4,
 "nbformat_minor": 5
}
