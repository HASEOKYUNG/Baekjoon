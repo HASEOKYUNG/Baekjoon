{
 "cells": [
  {
   "cell_type": "markdown",
   "id": "6428cc70",
   "metadata": {},
   "source": [
    "## 2748번\n",
    "0, 1로 시작하는 피보나치수열의 N번째 값을 구하여라.\n",
    "- 입력)N이 주어진다.\n",
    "- 출력)N번째 피보나치수열값이 출력된다.\n",
    "- https://www.acmicpc.net/problem/2748"
   ]
  },
  {
   "cell_type": "markdown",
   "id": "e8c04228",
   "metadata": {},
   "source": [
    "### 방법\n",
    "- 피보나치수열은 대표적인 재귀 알고리즘 예제로 재귀함수를 작성한 결과, 시간초과가 발생한다.\n",
    "- 본 문제는 재귀함수를 사용할 경우 n이 클 때 함수 호출 횟수가 늘어나 발생하는 시간초과 문제를 막는 것이 관건이다.<br>\n",
    "  이로써 동적 프로그래밍(Dynamic Programming) 사용해 해결한다."
   ]
  },
  {
   "cell_type": "code",
   "execution_count": null,
   "id": "07674074",
   "metadata": {},
   "outputs": [],
   "source": [
    "# 재귀함수\n",
    "def F(n):\n",
    "    if n==0:\n",
    "        return 0\n",
    "    elif n==1:\n",
    "        return 1\n",
    "    else:\n",
    "        return F(n-1)+F(n-2)\n",
    "\n",
    "print(F(int(input())))"
   ]
  },
  {
   "cell_type": "code",
   "execution_count": null,
   "id": "83230ddd",
   "metadata": {},
   "outputs": [],
   "source": [
    "# 30616 KB, 36 ms\n",
    "def F(n):\n",
    "    fibo = {0:0,1:1}\n",
    "    for i in range(2, n+1):\n",
    "        fibo[i] = fibo[i-1]+fibo[i-2]\n",
    "    return fibo[n]\n",
    "\n",
    "print(F(int(input())))"
   ]
  },
  {
   "cell_type": "code",
   "execution_count": null,
   "id": "95d5d455",
   "metadata": {},
   "outputs": [],
   "source": []
  }
 ],
 "metadata": {
  "kernelspec": {
   "display_name": "Python 3 (ipykernel)",
   "language": "python",
   "name": "python3"
  },
  "language_info": {
   "codemirror_mode": {
    "name": "ipython",
    "version": 3
   },
   "file_extension": ".py",
   "mimetype": "text/x-python",
   "name": "python",
   "nbconvert_exporter": "python",
   "pygments_lexer": "ipython3",
   "version": "3.9.12"
  }
 },
 "nbformat": 4,
 "nbformat_minor": 5
}
