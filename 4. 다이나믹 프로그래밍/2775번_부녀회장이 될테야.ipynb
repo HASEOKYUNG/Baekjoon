{
 "cells": [
  {
   "cell_type": "markdown",
   "id": "e68c31e5",
   "metadata": {},
   "source": [
    "## 2775번\n",
    "$S[0, i] = i, S[k, i] = \\sum_{j=1}^i S[k-1, j]$일 때, $S[k, i]$를 구하시오.\n",
    "- 입력)첫 줄에 테스트 케이스가 주어지고 두 줄에 걸쳐 k, i가 주어진다.\n",
    "- 출력)각 테스트 케이스에 맞는 수열값을 출력한다.\n",
    "- https://www.acmicpc.net/problem/2775"
   ]
  },
  {
   "cell_type": "markdown",
   "id": "2e4963b3",
   "metadata": {},
   "source": [
    "### 방법\n",
    "- $S[k, i] = S[k, i-1] + S[k-1, i]~$라는 규칙이 성립해 재귀함수로 구현하면 시간초과 오류가 난다.\n",
    "- 정의에 맞게 $k=0$부터 K-1층까지 올라가며 각 층마다 데려가야 하는 사람수를 갱신해 구해야 한다."
   ]
  },
  {
   "cell_type": "code",
   "execution_count": null,
   "id": "fc138455",
   "metadata": {},
   "outputs": [],
   "source": [
    "# 2층: 1 1+1+2 1+1+2+1+2+3 1+1+2+1+2+3+1+2+3+4   ,,,\n",
    "# 1층: 1  1+2     1+2+3          1+2+3+4         ,,,\n",
    "# 0층: 1   2        3               4            ,,,"
   ]
  },
  {
   "cell_type": "code",
   "execution_count": null,
   "id": "b7cf29c6",
   "metadata": {},
   "outputs": [],
   "source": [
    "# 시간초과 오류가 발생한다.\n",
    "# F(a, b) = F(a, b-1) + F(a-1, b)\n",
    "def live(k, n):\n",
    "    if n==0:\n",
    "        return 0\n",
    "    elif k==0:\n",
    "        return n\n",
    "    else:\n",
    "        return live(k, n-1) + live(k-1, n)\n",
    "    \n",
    "for i in range(int(input())):\n",
    "    print(live(int(input()), int(input())))"
   ]
  },
  {
   "cell_type": "code",
   "execution_count": null,
   "id": "4bc0488f",
   "metadata": {},
   "outputs": [],
   "source": [
    "# 31256 KB, 60 ms\n",
    "for i in range(int(input())):\n",
    "    k, n = int(input()), int(input())\n",
    "    floor = list(range(1, n+1))\n",
    "    for x in range(1, k+1):\n",
    "        for y in range(2, n+1):\n",
    "            floor[y-1] = floor[y-2]+floor[y-1]\n",
    "    print(floor[-1])"
   ]
  },
  {
   "cell_type": "code",
   "execution_count": null,
   "id": "6142dc52",
   "metadata": {},
   "outputs": [],
   "source": []
  }
 ],
 "metadata": {
  "kernelspec": {
   "display_name": "Python 3 (ipykernel)",
   "language": "python",
   "name": "python3"
  },
  "language_info": {
   "codemirror_mode": {
    "name": "ipython",
    "version": 3
   },
   "file_extension": ".py",
   "mimetype": "text/x-python",
   "name": "python",
   "nbconvert_exporter": "python",
   "pygments_lexer": "ipython3",
   "version": "3.9.12"
  }
 },
 "nbformat": 4,
 "nbformat_minor": 5
}
