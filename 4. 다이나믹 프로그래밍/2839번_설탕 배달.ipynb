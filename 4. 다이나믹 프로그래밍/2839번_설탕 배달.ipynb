{
 "cells": [
  {
   "cell_type": "markdown",
   "id": "6160b942",
   "metadata": {},
   "source": [
    "## 2839번\n",
    "N을 3과 5의 합으로 표현하는데 3, 5의 개수 합이 최소가 되도록 해야 한다. 3과 5의 개수 합을 출력하라.\n",
    "- 입력)N이 주어진다.\n",
    "- 출력)N을 표현하는 최소의 3과 5의 개수의 합을 출력한다. 단, 3과 5로 표현할 수 없는 경우 -1을 출력한다. \n",
    "- https://www.acmicpc.net/problem/2839"
   ]
  },
  {
   "cell_type": "markdown",
   "id": "7d42a4b9",
   "metadata": {},
   "source": [
    "### 방법 1\n",
    "- N을 5로 가능한 많이 표현하고 나머지를 3을 표현하는 것이 좋다. <br>\n",
    "  N을 5로 나눈 정수몫에서 나머지가 3으로 표현되는지 확인하는데 표현될 때까지 정수몫에서 1씩 빼가며 확인을 반복한다."
   ]
  },
  {
   "cell_type": "code",
   "execution_count": null,
   "id": "b4266982",
   "metadata": {},
   "outputs": [],
   "source": [
    "# 30840 KB, 68 ms\n",
    "w = int(input())\n",
    "\n",
    "n5 = w//5\n",
    "for i in range(n5+1):\n",
    "    if (w-5*n5) % 3 != 0:\n",
    "        n5 -= 1\n",
    "    else:\n",
    "        print(n5+(w-5*n5)//3)\n",
    "        break\n",
    "else:\n",
    "    print(-1)"
   ]
  },
  {
   "cell_type": "markdown",
   "id": "4f82353a",
   "metadata": {},
   "source": [
    "### 방법 2\n",
    "- 방법1과 반대로 N을 3으로 가장 적게 표현할 때부터 3과 5의 개수 합을 구해본다.\n",
    "- N을 0부터 3으로 나눈 정수몫까지 3으로 표현한 나머지가 5로 표현된다면 list에 3과 5의 개수 합을 담고 최솟값을 출력한다.\n",
    "- 방법1과 달리 변수 갱신이 이루어지지 않아 문제해결까지 걸리는 시간이 짧다."
   ]
  },
  {
   "cell_type": "code",
   "execution_count": null,
   "id": "2b10c595",
   "metadata": {},
   "outputs": [],
   "source": [
    "# 31388 KB, 44 ms\n",
    "w = int(input())\n",
    "\n",
    "n3 = w // 3\n",
    "result = []\n",
    "for a in range(n3+1):\n",
    "    if (w - 3*a) % 5 == 0:\n",
    "        b = (w - 3*a) // 5 \n",
    "        result.append(a+b)\n",
    "        \n",
    "print(min(result) if len(result) else -1)"
   ]
  },
  {
   "cell_type": "code",
   "execution_count": null,
   "id": "1a9f2a30",
   "metadata": {},
   "outputs": [],
   "source": []
  }
 ],
 "metadata": {
  "kernelspec": {
   "display_name": "Python 3 (ipykernel)",
   "language": "python",
   "name": "python3"
  },
  "language_info": {
   "codemirror_mode": {
    "name": "ipython",
    "version": 3
   },
   "file_extension": ".py",
   "mimetype": "text/x-python",
   "name": "python",
   "nbconvert_exporter": "python",
   "pygments_lexer": "ipython3",
   "version": "3.9.12"
  }
 },
 "nbformat": 4,
 "nbformat_minor": 5
}
